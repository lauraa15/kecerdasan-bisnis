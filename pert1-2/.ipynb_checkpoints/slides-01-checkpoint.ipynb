{
 "cells": [
  {
   "cell_type": "markdown",
   "id": "6bebb093",
   "metadata": {
    "slideshow": {
     "slide_type": "slide"
    }
   },
   "source": [
    "# IN269 Kecerdasan Bisnis\n",
    "## Pertemuan 01: Explanatory Data Analysis"
   ]
  },
  {
   "cell_type": "markdown",
   "id": "ecdc19b1",
   "metadata": {
    "slideshow": {
     "slide_type": "slide"
    }
   },
   "source": [
    "- In 2012, [Thomas H. Davenport and DJ Patil](https://hbr.org/2012/10/data-scientist-the-sexiest-job-of-the-21st-century) mempopulerkan bahwa\n",
    "> _the sexiest job of the 21st century is data scientist._\n",
    "- Saat ini, permintaan skilled data scientists masih tinggi $\\Rightarrow$ problem \n",
    "- Salah satu bagian mata kuliah ini is to help solve that problem by introducing you to all of the main data science techniques being used at today’s top firms. "
   ]
  },
  {
   "cell_type": "markdown",
   "id": "bcd6c5ff",
   "metadata": {
    "slideshow": {
     "slide_type": "slide"
    }
   },
   "source": [
    "- The first step of every data science problem is **exploring your data**. "
   ]
  },
  {
   "cell_type": "markdown",
   "id": "67a87f38",
   "metadata": {
    "slideshow": {
     "slide_type": "slide"
    }
   },
   "source": [
    "<center>\n",
    "<img src=\"images/types-of-data.png\" width=\"800\"/>\n",
    "</center>"
   ]
  },
  {
   "cell_type": "markdown",
   "id": "9aea7c1f",
   "metadata": {
    "slideshow": {
     "slide_type": "slide"
    }
   },
   "source": [
    "<h2>Structured Data</h2>\n",
    "<center>\n",
    "<img src=\"images/structured-data.png\" width=\"1000\"/>\n",
    "</center>"
   ]
  },
  {
   "cell_type": "markdown",
   "id": "3a652a4a",
   "metadata": {
    "slideshow": {
     "slide_type": "slide"
    }
   },
   "source": [
    "## Unstructured Data\n",
    "> **Jakarta** - _Kehidupan miliarder terkenal seperti Mark Zuckerberg dan Elon Musk seringkali menjadi perhatian khusus. Salah satu yang bikin penasaran adalah makanan apa saja yang dikonsumsi miliarder setiap hari. Dikutip dari Times of India, Mark Zuckerberg disebut bukan orang yang sulit soal makanan. Bos Facebook ini akan mengonsumsi apapun selama makanan tersebut praktis. Meski tidak memiliki aturan diet yang ketat, pada tahun 2011 ia sempat melakukan tantangan pribadi untuk hanya makan daging yang ia sembelih sendiri. Ini termasuk daging ayam, babi, bahkan kambing. Meski eksperimennya telah berakhir, itu mencerminkan ketertarikan Zuckerberg terhadap sumber makanannya._"
   ]
  },
  {
   "cell_type": "markdown",
   "id": "ae82ecb1",
   "metadata": {
    "slideshow": {
     "slide_type": "slide"
    }
   },
   "source": [
    "## Data Collections\n",
    "<center>\n",
    "<img src=\"images/data-collections.png\" width=\"750\"/>\n",
    "</center>"
   ]
  },
  {
   "cell_type": "markdown",
   "id": "89896265",
   "metadata": {
    "slideshow": {
     "slide_type": "slide"
    }
   },
   "source": [
    "## Structured Data File Types\n",
    "- CSV (Comma Separated Values)\n",
    "- TSV (Tab Separated Values)\n",
    "- XML (eXtensible Markup Language)\n",
    "- RSS (Really Simple Syndication)\n",
    "- JSON (JavaScript Object Notation)"
   ]
  },
  {
   "cell_type": "markdown",
   "id": "410ceeb4",
   "metadata": {
    "slideshow": {
     "slide_type": "slide"
    }
   },
   "source": [
    "## Data Preprocessing\n",
    "<center>\n",
    "<img src=\"images/data-preprocessing.png\" width=\"750\"/>\n",
    "</center>"
   ]
  },
  {
   "cell_type": "markdown",
   "id": "05518814",
   "metadata": {
    "slideshow": {
     "slide_type": "slide"
    }
   },
   "source": [
    "## Data Cleaning & Integration\n",
    "<center>\n",
    "<img src=\"images/data-cleaning.png\" width=\"750\"/>\n",
    "</center>"
   ]
  },
  {
   "cell_type": "markdown",
   "id": "57ca0da2",
   "metadata": {
    "slideshow": {
     "slide_type": "slide"
    }
   },
   "source": [
    "## Data Transformation & Reduction\n",
    "<center>\n",
    "<img src=\"images/data-transformation.png\" width=\"1000\"/>\n",
    "</center>"
   ]
  },
  {
   "cell_type": "markdown",
   "id": "cf02548a",
   "metadata": {
    "slideshow": {
     "slide_type": "slide"
    }
   },
   "source": [
    "## Data Discretization (1/2)\n",
    "- Kita sering berhadapan dengan data yang di-collect dari proses yang kontinu seperti suhu, intensitas cahaya, dan harga saham.\n",
    "- Tetapi sering kita mau mengubah nilai kontinu tersebut ke dalam bagian yang lebih _manageable_.\n",
    "- This mapping $\\Rightarrow$ discretization.\n",
    "- Undertaking discretization are also essentially **reducing data**.\n",
    "- Jadi, this process of discretization $\\Rightarrow$ a means of data reduction."
   ]
  },
  {
   "cell_type": "markdown",
   "id": "bdf19d19",
   "metadata": {
    "slideshow": {
     "slide_type": "slide"
    }
   },
   "source": [
    "## Data Discretization (2/2)\n",
    "- Untuk melakukan discretization, \n",
    "> divide the range of continuous attributes into intervals. For instance, we could decide to split the range of temperature values into cold, moderate, and hot, or the price of company stock into above or below its market valuation.    "
   ]
  },
  {
   "cell_type": "markdown",
   "id": "8824eb02",
   "metadata": {
    "slideshow": {
     "slide_type": "slide"
    }
   },
   "source": [
    "## Contoh Pemrosesan Data\n",
    "Kita mempunyai [dataset](https://docs.google.com/spreadsheets/d/1_G_mRHd9w5bJXGuWCJBXgqHbT8yWk004/edit?usp=sharing&ouid=100679756009748298305&rtpof=true&sd=true).     \n",
    "Dataset ini mempunyai beberapa attributes:\n",
    "1. Name of the country from which sample obtained\n",
    "2. Alcohol consumption measured as liters of wine, per capita\n",
    "3. Number of deaths from alcohol consumption, per 100,000 people\n",
    "4. Number of heart disease deaths, per 100,000 people\n",
    "5. Number of deaths from liver diseases, also per 100,000 people"
   ]
  },
  {
   "cell_type": "markdown",
   "id": "f9d8a929",
   "metadata": {
    "slideshow": {
     "slide_type": "slide"
    }
   },
   "source": [
    "## Data Analysis vs. Data Analytics\n",
    "<center>\n",
    "<img src=\"images/data-analysis.png\" width=\"750\"/>\n",
    "</center>"
   ]
  },
  {
   "cell_type": "markdown",
   "id": "c5705ad4",
   "metadata": {
    "slideshow": {
     "slide_type": "slide"
    }
   },
   "source": [
    "## Types of Analysis/Analytics\n",
    "<center>\n",
    "<img src=\"images/types-of-analysis.png\" width=\"750\"/>\n",
    "</center>"
   ]
  },
  {
   "cell_type": "markdown",
   "id": "e287ec23",
   "metadata": {
    "slideshow": {
     "slide_type": "slide"
    }
   },
   "source": [
    "## Descriptive Analysis\n",
    "<center>\n",
    "<img src=\"images/descriptive-analysis.png\" width=\"1000\"/>\n",
    "</center>"
   ]
  },
  {
   "cell_type": "markdown",
   "id": "12ee0d09",
   "metadata": {
    "slideshow": {
     "slide_type": "slide"
    }
   },
   "source": [
    "## Diagnostic Analytics\n",
    "<center>\n",
    "<img src=\"images/diagnostic-analysis.png\" width=\"750\"/>\n",
    "</center>"
   ]
  },
  {
   "cell_type": "markdown",
   "id": "e4c26e03",
   "metadata": {
    "slideshow": {
     "slide_type": "slide"
    }
   },
   "source": [
    "## Predictive Analytics\n",
    "<center>\n",
    "<img src=\"images/predictive-analysis.png\" width=\"750\"/>\n",
    "</center>"
   ]
  },
  {
   "cell_type": "markdown",
   "id": "4960276a",
   "metadata": {
    "slideshow": {
     "slide_type": "slide"
    }
   },
   "source": [
    "## Prescriptive Analytics\n",
    "<center>\n",
    "<img src=\"images/prescriptive-analysis.png\" width=\"750\"/>\n",
    "</center>"
   ]
  },
  {
   "cell_type": "markdown",
   "id": "64685e9d",
   "metadata": {
    "slideshow": {
     "slide_type": "slide"
    }
   },
   "source": [
    "<center>\n",
    "<img src=\"images/analytics.png\" width=\"800\">\n",
    "</center>    "
   ]
  },
  {
   "cell_type": "markdown",
   "id": "f8425c1e",
   "metadata": {
    "slideshow": {
     "slide_type": "slide"
    }
   },
   "source": [
    "## Exploratory Analysis\n",
    "<center>\n",
    "<img src=\"images/exploratory-analysis.png\" width=\"750\"/>\n",
    "</center>"
   ]
  },
  {
   "cell_type": "markdown",
   "id": "432ca818",
   "metadata": {
    "slideshow": {
     "slide_type": "slide"
    }
   },
   "source": [
    "## Exploratory Analysis\n",
    "- Sering ketika kita bekerja dengan data, kita belum mempunyai a clear understanding of the problem or the situation. \n",
    "- And yet, we may be called on to provide some insights. In other words, we are asked to provide an answer without knowing the question! This is where we go for an exploration."
   ]
  },
  {
   "cell_type": "markdown",
   "id": "e32a2882",
   "metadata": {
    "slideshow": {
     "slide_type": "slide"
    }
   },
   "source": [
    "- Exploratory analysis is an approach to analyzing datasets to **find previously unknown relationships**. \n",
    "- Often such analysis involves using **various data visualization approaches**."
   ]
  },
  {
   "cell_type": "markdown",
   "id": "065b9238",
   "metadata": {
    "slideshow": {
     "slide_type": "slide"
    }
   },
   "source": [
    "- Exploratory data analysis is an approach that **postpones the usual assumptions about what kind of model the data follows** with **the more direct approach of allowing the data itself to reveal its underlying structure in the form of a model**. \n",
    "- Thus, exploratory analysis is not a mere collection of techniques; rather, it offers a philosophy as to \n",
    "    - how to dissect a dataset; \n",
    "    - what to look for; \n",
    "    - how to look; and \n",
    "    - how to interpret the outcomes."
   ]
  },
  {
   "cell_type": "markdown",
   "id": "ff67baed",
   "metadata": {
    "slideshow": {
     "slide_type": "slide"
    }
   },
   "source": [
    "The most common application of exploratory analysis $\\Rightarrow$ is looking for patterns in the data, such as **finding groups of similar genes from a collection of samples**."
   ]
  },
  {
   "cell_type": "markdown",
   "id": "f58f1acc",
   "metadata": {
    "slideshow": {
     "slide_type": "slide"
    }
   },
   "source": [
    "## Mechanistic Analysis\n",
    "<center>\n",
    "<img src=\"images/mechanistic-analysis.png\" width=\"750\"/>\n",
    "</center>"
   ]
  },
  {
   "cell_type": "markdown",
   "id": "6ca1ba69",
   "metadata": {
    "slideshow": {
     "slide_type": "slide"
    }
   },
   "source": [
    "## Example: Exploratory Data Analysis\n",
    "- Imagine you receive a job offer to be the CEO of a company in Washington, DC, that provides bicycles that people can rent for short periods to ride around the city. \n",
    "- Even though you don’t have any experience running bike-sharing companies, you accept the offer."
   ]
  },
  {
   "cell_type": "markdown",
   "id": "6cd67fa3",
   "metadata": {
    "slideshow": {
     "slide_type": "slide"
    }
   },
   "source": [
    "- If you want to understand your company, **you need data**. \n",
    "- You might try to look at charts and reports that summarize your company’s data, but no prepared report can tell you as much as you’ll learn by diving into the data yourself."
   ]
  },
  {
   "cell_type": "markdown",
   "id": "7312aaa5",
   "metadata": {
    "slideshow": {
     "slide_type": "slide"
    }
   },
   "source": [
    "## Finding Patterns in Datasets\n",
    "Let’s look at some data from a real bike-sharing service and imagine that this is data from your company. \n"
   ]
  },
  {
   "cell_type": "code",
   "execution_count": 1,
   "id": "ecfcaf3f",
   "metadata": {
    "slideshow": {
     "slide_type": "slide"
    }
   },
   "outputs": [
    {
     "name": "stdout",
     "output_type": "stream",
     "text": [
      "   instant      dteday  season  yr  mnth  hr  holiday  weekday  workingday  \\\n",
      "0        1  2011-01-01       1   0     1   0        0        6           0   \n",
      "1        2  2011-01-01       1   0     1   1        0        6           0   \n",
      "2        3  2011-01-01       1   0     1   2        0        6           0   \n",
      "3        4  2011-01-01       1   0     1   3        0        6           0   \n",
      "4        5  2011-01-01       1   0     1   4        0        6           0   \n",
      "\n",
      "   weathersit  temp   atemp   hum  windspeed  casual  registered  count  \n",
      "0           1  0.24  0.2879  0.81        0.0       3          13     16  \n",
      "1           1  0.22  0.2727  0.80        0.0       8          32     40  \n",
      "2           1  0.22  0.2727  0.80        0.0       5          27     32  \n",
      "3           1  0.24  0.2879  0.75        0.0       3          10     13  \n",
      "4           1  0.24  0.2879  0.75        0.0       0           1      1  \n"
     ]
    }
   ],
   "source": [
    "import pandas as pd\n",
    "hour = pd.read_csv('hour.csv')\n",
    "# read_csv() is designed to read data that is stored in .csv files\n",
    "print(hour.head())"
   ]
  },
  {
   "cell_type": "markdown",
   "id": "908b64b5",
   "metadata": {
    "slideshow": {
     "slide_type": "slide"
    }
   },
   "source": [
    "- In this dataset, each row represents information about a particular hour between midnight on January 1, 2011, and 11:59 PM on December 31, 2012 $\\Rightarrow$ more than 17,000 hours total.\n",
    "- The rows are arranged in order, so the first few rows give us information about the first few hours of 2011, and the last few rows relate to the last few hours of 2012."
   ]
  },
  {
   "cell_type": "markdown",
   "id": "fb30ae57",
   "metadata": {
    "slideshow": {
     "slide_type": "slide"
    }
   },
   "source": [
    "- Each column contains a particular metric that has been measured for each of these hours. For example, the windspeed column gives us hourly measurements of wind speed at a particular weather-recording station in Washington, DC. \n",
    "- All we need to know is that 1 represents a fast wind speed and 0 represents no wind."
   ]
  },
  {
   "cell_type": "markdown",
   "id": "9b6783b7",
   "metadata": {
    "slideshow": {
     "slide_type": "slide"
    }
   },
   "source": [
    "- The columns with the most important information are the last three: `casual`, `registered`, and `count`. \n",
    "- These columns indicate the number of people who used your company’s bikes each hour. "
   ]
  },
  {
   "cell_type": "markdown",
   "id": "23db8a28",
   "metadata": {
    "slideshow": {
     "slide_type": "slide"
    }
   },
   "source": [
    "- People who register with your service to get discounts and benefits are `registered` users, and their bike use is recorded in the `registered` column. \n",
    "- But people can also use your bikes _without registering_, and their bike use is recorded in the `casual` column.\n",
    "- The sum of the `casual` and `registered` columns is the **total count of users during each hour**, and it’s recorded in the `count` column."
   ]
  },
  {
   "cell_type": "code",
   "execution_count": 2,
   "id": "b1501b1a",
   "metadata": {
    "slideshow": {
     "slide_type": "slide"
    }
   },
   "outputs": [
    {
     "data": {
      "text/html": [
       "<div>\n",
       "<style scoped>\n",
       "    .dataframe tbody tr th:only-of-type {\n",
       "        vertical-align: middle;\n",
       "    }\n",
       "\n",
       "    .dataframe tbody tr th {\n",
       "        vertical-align: top;\n",
       "    }\n",
       "\n",
       "    .dataframe thead th {\n",
       "        text-align: right;\n",
       "    }\n",
       "</style>\n",
       "<table border=\"1\" class=\"dataframe\">\n",
       "  <thead>\n",
       "    <tr style=\"text-align: right;\">\n",
       "      <th></th>\n",
       "      <th>instant</th>\n",
       "      <th>dteday</th>\n",
       "      <th>season</th>\n",
       "      <th>yr</th>\n",
       "      <th>mnth</th>\n",
       "      <th>hr</th>\n",
       "      <th>holiday</th>\n",
       "      <th>weekday</th>\n",
       "      <th>workingday</th>\n",
       "      <th>weathersit</th>\n",
       "      <th>temp</th>\n",
       "      <th>atemp</th>\n",
       "      <th>hum</th>\n",
       "      <th>windspeed</th>\n",
       "      <th>casual</th>\n",
       "      <th>registered</th>\n",
       "      <th>count</th>\n",
       "    </tr>\n",
       "  </thead>\n",
       "  <tbody>\n",
       "    <tr>\n",
       "      <th>0</th>\n",
       "      <td>1</td>\n",
       "      <td>2011-01-01</td>\n",
       "      <td>1</td>\n",
       "      <td>0</td>\n",
       "      <td>1</td>\n",
       "      <td>0</td>\n",
       "      <td>0</td>\n",
       "      <td>6</td>\n",
       "      <td>0</td>\n",
       "      <td>1</td>\n",
       "      <td>0.24</td>\n",
       "      <td>0.2879</td>\n",
       "      <td>0.81</td>\n",
       "      <td>0.0000</td>\n",
       "      <td>3</td>\n",
       "      <td>13</td>\n",
       "      <td>16</td>\n",
       "    </tr>\n",
       "    <tr>\n",
       "      <th>1</th>\n",
       "      <td>2</td>\n",
       "      <td>2011-01-01</td>\n",
       "      <td>1</td>\n",
       "      <td>0</td>\n",
       "      <td>1</td>\n",
       "      <td>1</td>\n",
       "      <td>0</td>\n",
       "      <td>6</td>\n",
       "      <td>0</td>\n",
       "      <td>1</td>\n",
       "      <td>0.22</td>\n",
       "      <td>0.2727</td>\n",
       "      <td>0.80</td>\n",
       "      <td>0.0000</td>\n",
       "      <td>8</td>\n",
       "      <td>32</td>\n",
       "      <td>40</td>\n",
       "    </tr>\n",
       "    <tr>\n",
       "      <th>2</th>\n",
       "      <td>3</td>\n",
       "      <td>2011-01-01</td>\n",
       "      <td>1</td>\n",
       "      <td>0</td>\n",
       "      <td>1</td>\n",
       "      <td>2</td>\n",
       "      <td>0</td>\n",
       "      <td>6</td>\n",
       "      <td>0</td>\n",
       "      <td>1</td>\n",
       "      <td>0.22</td>\n",
       "      <td>0.2727</td>\n",
       "      <td>0.80</td>\n",
       "      <td>0.0000</td>\n",
       "      <td>5</td>\n",
       "      <td>27</td>\n",
       "      <td>32</td>\n",
       "    </tr>\n",
       "    <tr>\n",
       "      <th>3</th>\n",
       "      <td>4</td>\n",
       "      <td>2011-01-01</td>\n",
       "      <td>1</td>\n",
       "      <td>0</td>\n",
       "      <td>1</td>\n",
       "      <td>3</td>\n",
       "      <td>0</td>\n",
       "      <td>6</td>\n",
       "      <td>0</td>\n",
       "      <td>1</td>\n",
       "      <td>0.24</td>\n",
       "      <td>0.2879</td>\n",
       "      <td>0.75</td>\n",
       "      <td>0.0000</td>\n",
       "      <td>3</td>\n",
       "      <td>10</td>\n",
       "      <td>13</td>\n",
       "    </tr>\n",
       "    <tr>\n",
       "      <th>4</th>\n",
       "      <td>5</td>\n",
       "      <td>2011-01-01</td>\n",
       "      <td>1</td>\n",
       "      <td>0</td>\n",
       "      <td>1</td>\n",
       "      <td>4</td>\n",
       "      <td>0</td>\n",
       "      <td>6</td>\n",
       "      <td>0</td>\n",
       "      <td>1</td>\n",
       "      <td>0.24</td>\n",
       "      <td>0.2879</td>\n",
       "      <td>0.75</td>\n",
       "      <td>0.0000</td>\n",
       "      <td>0</td>\n",
       "      <td>1</td>\n",
       "      <td>1</td>\n",
       "    </tr>\n",
       "    <tr>\n",
       "      <th>5</th>\n",
       "      <td>6</td>\n",
       "      <td>2011-01-01</td>\n",
       "      <td>1</td>\n",
       "      <td>0</td>\n",
       "      <td>1</td>\n",
       "      <td>5</td>\n",
       "      <td>0</td>\n",
       "      <td>6</td>\n",
       "      <td>0</td>\n",
       "      <td>2</td>\n",
       "      <td>0.24</td>\n",
       "      <td>0.2576</td>\n",
       "      <td>0.75</td>\n",
       "      <td>0.0896</td>\n",
       "      <td>0</td>\n",
       "      <td>1</td>\n",
       "      <td>1</td>\n",
       "    </tr>\n",
       "    <tr>\n",
       "      <th>6</th>\n",
       "      <td>7</td>\n",
       "      <td>2011-01-01</td>\n",
       "      <td>1</td>\n",
       "      <td>0</td>\n",
       "      <td>1</td>\n",
       "      <td>6</td>\n",
       "      <td>0</td>\n",
       "      <td>6</td>\n",
       "      <td>0</td>\n",
       "      <td>1</td>\n",
       "      <td>0.22</td>\n",
       "      <td>0.2727</td>\n",
       "      <td>0.80</td>\n",
       "      <td>0.0000</td>\n",
       "      <td>2</td>\n",
       "      <td>0</td>\n",
       "      <td>2</td>\n",
       "    </tr>\n",
       "    <tr>\n",
       "      <th>7</th>\n",
       "      <td>8</td>\n",
       "      <td>2011-01-01</td>\n",
       "      <td>1</td>\n",
       "      <td>0</td>\n",
       "      <td>1</td>\n",
       "      <td>7</td>\n",
       "      <td>0</td>\n",
       "      <td>6</td>\n",
       "      <td>0</td>\n",
       "      <td>1</td>\n",
       "      <td>0.20</td>\n",
       "      <td>0.2576</td>\n",
       "      <td>0.86</td>\n",
       "      <td>0.0000</td>\n",
       "      <td>1</td>\n",
       "      <td>2</td>\n",
       "      <td>3</td>\n",
       "    </tr>\n",
       "    <tr>\n",
       "      <th>8</th>\n",
       "      <td>9</td>\n",
       "      <td>2011-01-01</td>\n",
       "      <td>1</td>\n",
       "      <td>0</td>\n",
       "      <td>1</td>\n",
       "      <td>8</td>\n",
       "      <td>0</td>\n",
       "      <td>6</td>\n",
       "      <td>0</td>\n",
       "      <td>1</td>\n",
       "      <td>0.24</td>\n",
       "      <td>0.2879</td>\n",
       "      <td>0.75</td>\n",
       "      <td>0.0000</td>\n",
       "      <td>1</td>\n",
       "      <td>7</td>\n",
       "      <td>8</td>\n",
       "    </tr>\n",
       "    <tr>\n",
       "      <th>9</th>\n",
       "      <td>10</td>\n",
       "      <td>2011-01-01</td>\n",
       "      <td>1</td>\n",
       "      <td>0</td>\n",
       "      <td>1</td>\n",
       "      <td>9</td>\n",
       "      <td>0</td>\n",
       "      <td>6</td>\n",
       "      <td>0</td>\n",
       "      <td>1</td>\n",
       "      <td>0.32</td>\n",
       "      <td>0.3485</td>\n",
       "      <td>0.76</td>\n",
       "      <td>0.0000</td>\n",
       "      <td>8</td>\n",
       "      <td>6</td>\n",
       "      <td>14</td>\n",
       "    </tr>\n",
       "    <tr>\n",
       "      <th>10</th>\n",
       "      <td>11</td>\n",
       "      <td>2011-01-01</td>\n",
       "      <td>1</td>\n",
       "      <td>0</td>\n",
       "      <td>1</td>\n",
       "      <td>10</td>\n",
       "      <td>0</td>\n",
       "      <td>6</td>\n",
       "      <td>0</td>\n",
       "      <td>1</td>\n",
       "      <td>0.38</td>\n",
       "      <td>0.3939</td>\n",
       "      <td>0.76</td>\n",
       "      <td>0.2537</td>\n",
       "      <td>12</td>\n",
       "      <td>24</td>\n",
       "      <td>36</td>\n",
       "    </tr>\n",
       "    <tr>\n",
       "      <th>11</th>\n",
       "      <td>12</td>\n",
       "      <td>2011-01-01</td>\n",
       "      <td>1</td>\n",
       "      <td>0</td>\n",
       "      <td>1</td>\n",
       "      <td>11</td>\n",
       "      <td>0</td>\n",
       "      <td>6</td>\n",
       "      <td>0</td>\n",
       "      <td>1</td>\n",
       "      <td>0.36</td>\n",
       "      <td>0.3333</td>\n",
       "      <td>0.81</td>\n",
       "      <td>0.2836</td>\n",
       "      <td>26</td>\n",
       "      <td>30</td>\n",
       "      <td>56</td>\n",
       "    </tr>\n",
       "    <tr>\n",
       "      <th>12</th>\n",
       "      <td>13</td>\n",
       "      <td>2011-01-01</td>\n",
       "      <td>1</td>\n",
       "      <td>0</td>\n",
       "      <td>1</td>\n",
       "      <td>12</td>\n",
       "      <td>0</td>\n",
       "      <td>6</td>\n",
       "      <td>0</td>\n",
       "      <td>1</td>\n",
       "      <td>0.42</td>\n",
       "      <td>0.4242</td>\n",
       "      <td>0.77</td>\n",
       "      <td>0.2836</td>\n",
       "      <td>29</td>\n",
       "      <td>55</td>\n",
       "      <td>84</td>\n",
       "    </tr>\n",
       "    <tr>\n",
       "      <th>13</th>\n",
       "      <td>14</td>\n",
       "      <td>2011-01-01</td>\n",
       "      <td>1</td>\n",
       "      <td>0</td>\n",
       "      <td>1</td>\n",
       "      <td>13</td>\n",
       "      <td>0</td>\n",
       "      <td>6</td>\n",
       "      <td>0</td>\n",
       "      <td>2</td>\n",
       "      <td>0.46</td>\n",
       "      <td>0.4545</td>\n",
       "      <td>0.72</td>\n",
       "      <td>0.2985</td>\n",
       "      <td>47</td>\n",
       "      <td>47</td>\n",
       "      <td>94</td>\n",
       "    </tr>\n",
       "    <tr>\n",
       "      <th>14</th>\n",
       "      <td>15</td>\n",
       "      <td>2011-01-01</td>\n",
       "      <td>1</td>\n",
       "      <td>0</td>\n",
       "      <td>1</td>\n",
       "      <td>14</td>\n",
       "      <td>0</td>\n",
       "      <td>6</td>\n",
       "      <td>0</td>\n",
       "      <td>2</td>\n",
       "      <td>0.46</td>\n",
       "      <td>0.4545</td>\n",
       "      <td>0.72</td>\n",
       "      <td>0.2836</td>\n",
       "      <td>35</td>\n",
       "      <td>71</td>\n",
       "      <td>106</td>\n",
       "    </tr>\n",
       "    <tr>\n",
       "      <th>15</th>\n",
       "      <td>16</td>\n",
       "      <td>2011-01-01</td>\n",
       "      <td>1</td>\n",
       "      <td>0</td>\n",
       "      <td>1</td>\n",
       "      <td>15</td>\n",
       "      <td>0</td>\n",
       "      <td>6</td>\n",
       "      <td>0</td>\n",
       "      <td>2</td>\n",
       "      <td>0.44</td>\n",
       "      <td>0.4394</td>\n",
       "      <td>0.77</td>\n",
       "      <td>0.2985</td>\n",
       "      <td>40</td>\n",
       "      <td>70</td>\n",
       "      <td>110</td>\n",
       "    </tr>\n",
       "    <tr>\n",
       "      <th>16</th>\n",
       "      <td>17</td>\n",
       "      <td>2011-01-01</td>\n",
       "      <td>1</td>\n",
       "      <td>0</td>\n",
       "      <td>1</td>\n",
       "      <td>16</td>\n",
       "      <td>0</td>\n",
       "      <td>6</td>\n",
       "      <td>0</td>\n",
       "      <td>2</td>\n",
       "      <td>0.42</td>\n",
       "      <td>0.4242</td>\n",
       "      <td>0.82</td>\n",
       "      <td>0.2985</td>\n",
       "      <td>41</td>\n",
       "      <td>52</td>\n",
       "      <td>93</td>\n",
       "    </tr>\n",
       "    <tr>\n",
       "      <th>17</th>\n",
       "      <td>18</td>\n",
       "      <td>2011-01-01</td>\n",
       "      <td>1</td>\n",
       "      <td>0</td>\n",
       "      <td>1</td>\n",
       "      <td>17</td>\n",
       "      <td>0</td>\n",
       "      <td>6</td>\n",
       "      <td>0</td>\n",
       "      <td>2</td>\n",
       "      <td>0.44</td>\n",
       "      <td>0.4394</td>\n",
       "      <td>0.82</td>\n",
       "      <td>0.2836</td>\n",
       "      <td>15</td>\n",
       "      <td>52</td>\n",
       "      <td>67</td>\n",
       "    </tr>\n",
       "    <tr>\n",
       "      <th>18</th>\n",
       "      <td>19</td>\n",
       "      <td>2011-01-01</td>\n",
       "      <td>1</td>\n",
       "      <td>0</td>\n",
       "      <td>1</td>\n",
       "      <td>18</td>\n",
       "      <td>0</td>\n",
       "      <td>6</td>\n",
       "      <td>0</td>\n",
       "      <td>3</td>\n",
       "      <td>0.42</td>\n",
       "      <td>0.4242</td>\n",
       "      <td>0.88</td>\n",
       "      <td>0.2537</td>\n",
       "      <td>9</td>\n",
       "      <td>26</td>\n",
       "      <td>35</td>\n",
       "    </tr>\n",
       "    <tr>\n",
       "      <th>19</th>\n",
       "      <td>20</td>\n",
       "      <td>2011-01-01</td>\n",
       "      <td>1</td>\n",
       "      <td>0</td>\n",
       "      <td>1</td>\n",
       "      <td>19</td>\n",
       "      <td>0</td>\n",
       "      <td>6</td>\n",
       "      <td>0</td>\n",
       "      <td>3</td>\n",
       "      <td>0.42</td>\n",
       "      <td>0.4242</td>\n",
       "      <td>0.88</td>\n",
       "      <td>0.2537</td>\n",
       "      <td>6</td>\n",
       "      <td>31</td>\n",
       "      <td>37</td>\n",
       "    </tr>\n",
       "    <tr>\n",
       "      <th>20</th>\n",
       "      <td>21</td>\n",
       "      <td>2011-01-01</td>\n",
       "      <td>1</td>\n",
       "      <td>0</td>\n",
       "      <td>1</td>\n",
       "      <td>20</td>\n",
       "      <td>0</td>\n",
       "      <td>6</td>\n",
       "      <td>0</td>\n",
       "      <td>2</td>\n",
       "      <td>0.40</td>\n",
       "      <td>0.4091</td>\n",
       "      <td>0.87</td>\n",
       "      <td>0.2537</td>\n",
       "      <td>11</td>\n",
       "      <td>25</td>\n",
       "      <td>36</td>\n",
       "    </tr>\n",
       "    <tr>\n",
       "      <th>21</th>\n",
       "      <td>22</td>\n",
       "      <td>2011-01-01</td>\n",
       "      <td>1</td>\n",
       "      <td>0</td>\n",
       "      <td>1</td>\n",
       "      <td>21</td>\n",
       "      <td>0</td>\n",
       "      <td>6</td>\n",
       "      <td>0</td>\n",
       "      <td>2</td>\n",
       "      <td>0.40</td>\n",
       "      <td>0.4091</td>\n",
       "      <td>0.87</td>\n",
       "      <td>0.1940</td>\n",
       "      <td>3</td>\n",
       "      <td>31</td>\n",
       "      <td>34</td>\n",
       "    </tr>\n",
       "    <tr>\n",
       "      <th>22</th>\n",
       "      <td>23</td>\n",
       "      <td>2011-01-01</td>\n",
       "      <td>1</td>\n",
       "      <td>0</td>\n",
       "      <td>1</td>\n",
       "      <td>22</td>\n",
       "      <td>0</td>\n",
       "      <td>6</td>\n",
       "      <td>0</td>\n",
       "      <td>2</td>\n",
       "      <td>0.40</td>\n",
       "      <td>0.4091</td>\n",
       "      <td>0.94</td>\n",
       "      <td>0.2239</td>\n",
       "      <td>11</td>\n",
       "      <td>17</td>\n",
       "      <td>28</td>\n",
       "    </tr>\n",
       "    <tr>\n",
       "      <th>23</th>\n",
       "      <td>24</td>\n",
       "      <td>2011-01-01</td>\n",
       "      <td>1</td>\n",
       "      <td>0</td>\n",
       "      <td>1</td>\n",
       "      <td>23</td>\n",
       "      <td>0</td>\n",
       "      <td>6</td>\n",
       "      <td>0</td>\n",
       "      <td>2</td>\n",
       "      <td>0.46</td>\n",
       "      <td>0.4545</td>\n",
       "      <td>0.88</td>\n",
       "      <td>0.2985</td>\n",
       "      <td>15</td>\n",
       "      <td>24</td>\n",
       "      <td>39</td>\n",
       "    </tr>\n",
       "    <tr>\n",
       "      <th>24</th>\n",
       "      <td>25</td>\n",
       "      <td>2011-01-02</td>\n",
       "      <td>1</td>\n",
       "      <td>0</td>\n",
       "      <td>1</td>\n",
       "      <td>0</td>\n",
       "      <td>0</td>\n",
       "      <td>0</td>\n",
       "      <td>0</td>\n",
       "      <td>2</td>\n",
       "      <td>0.46</td>\n",
       "      <td>0.4545</td>\n",
       "      <td>0.88</td>\n",
       "      <td>0.2985</td>\n",
       "      <td>4</td>\n",
       "      <td>13</td>\n",
       "      <td>17</td>\n",
       "    </tr>\n",
       "    <tr>\n",
       "      <th>25</th>\n",
       "      <td>26</td>\n",
       "      <td>2011-01-02</td>\n",
       "      <td>1</td>\n",
       "      <td>0</td>\n",
       "      <td>1</td>\n",
       "      <td>1</td>\n",
       "      <td>0</td>\n",
       "      <td>0</td>\n",
       "      <td>0</td>\n",
       "      <td>2</td>\n",
       "      <td>0.44</td>\n",
       "      <td>0.4394</td>\n",
       "      <td>0.94</td>\n",
       "      <td>0.2537</td>\n",
       "      <td>1</td>\n",
       "      <td>16</td>\n",
       "      <td>17</td>\n",
       "    </tr>\n",
       "    <tr>\n",
       "      <th>26</th>\n",
       "      <td>27</td>\n",
       "      <td>2011-01-02</td>\n",
       "      <td>1</td>\n",
       "      <td>0</td>\n",
       "      <td>1</td>\n",
       "      <td>2</td>\n",
       "      <td>0</td>\n",
       "      <td>0</td>\n",
       "      <td>0</td>\n",
       "      <td>2</td>\n",
       "      <td>0.42</td>\n",
       "      <td>0.4242</td>\n",
       "      <td>1.00</td>\n",
       "      <td>0.2836</td>\n",
       "      <td>1</td>\n",
       "      <td>8</td>\n",
       "      <td>9</td>\n",
       "    </tr>\n",
       "    <tr>\n",
       "      <th>27</th>\n",
       "      <td>28</td>\n",
       "      <td>2011-01-02</td>\n",
       "      <td>1</td>\n",
       "      <td>0</td>\n",
       "      <td>1</td>\n",
       "      <td>3</td>\n",
       "      <td>0</td>\n",
       "      <td>0</td>\n",
       "      <td>0</td>\n",
       "      <td>2</td>\n",
       "      <td>0.46</td>\n",
       "      <td>0.4545</td>\n",
       "      <td>0.94</td>\n",
       "      <td>0.1940</td>\n",
       "      <td>2</td>\n",
       "      <td>4</td>\n",
       "      <td>6</td>\n",
       "    </tr>\n",
       "    <tr>\n",
       "      <th>28</th>\n",
       "      <td>29</td>\n",
       "      <td>2011-01-02</td>\n",
       "      <td>1</td>\n",
       "      <td>0</td>\n",
       "      <td>1</td>\n",
       "      <td>4</td>\n",
       "      <td>0</td>\n",
       "      <td>0</td>\n",
       "      <td>0</td>\n",
       "      <td>2</td>\n",
       "      <td>0.46</td>\n",
       "      <td>0.4545</td>\n",
       "      <td>0.94</td>\n",
       "      <td>0.1940</td>\n",
       "      <td>2</td>\n",
       "      <td>1</td>\n",
       "      <td>3</td>\n",
       "    </tr>\n",
       "    <tr>\n",
       "      <th>29</th>\n",
       "      <td>30</td>\n",
       "      <td>2011-01-02</td>\n",
       "      <td>1</td>\n",
       "      <td>0</td>\n",
       "      <td>1</td>\n",
       "      <td>6</td>\n",
       "      <td>0</td>\n",
       "      <td>0</td>\n",
       "      <td>0</td>\n",
       "      <td>3</td>\n",
       "      <td>0.42</td>\n",
       "      <td>0.4242</td>\n",
       "      <td>0.77</td>\n",
       "      <td>0.2985</td>\n",
       "      <td>0</td>\n",
       "      <td>2</td>\n",
       "      <td>2</td>\n",
       "    </tr>\n",
       "  </tbody>\n",
       "</table>\n",
       "</div>"
      ],
      "text/plain": [
       "    instant      dteday  season  yr  mnth  hr  holiday  weekday  workingday  \\\n",
       "0         1  2011-01-01       1   0     1   0        0        6           0   \n",
       "1         2  2011-01-01       1   0     1   1        0        6           0   \n",
       "2         3  2011-01-01       1   0     1   2        0        6           0   \n",
       "3         4  2011-01-01       1   0     1   3        0        6           0   \n",
       "4         5  2011-01-01       1   0     1   4        0        6           0   \n",
       "5         6  2011-01-01       1   0     1   5        0        6           0   \n",
       "6         7  2011-01-01       1   0     1   6        0        6           0   \n",
       "7         8  2011-01-01       1   0     1   7        0        6           0   \n",
       "8         9  2011-01-01       1   0     1   8        0        6           0   \n",
       "9        10  2011-01-01       1   0     1   9        0        6           0   \n",
       "10       11  2011-01-01       1   0     1  10        0        6           0   \n",
       "11       12  2011-01-01       1   0     1  11        0        6           0   \n",
       "12       13  2011-01-01       1   0     1  12        0        6           0   \n",
       "13       14  2011-01-01       1   0     1  13        0        6           0   \n",
       "14       15  2011-01-01       1   0     1  14        0        6           0   \n",
       "15       16  2011-01-01       1   0     1  15        0        6           0   \n",
       "16       17  2011-01-01       1   0     1  16        0        6           0   \n",
       "17       18  2011-01-01       1   0     1  17        0        6           0   \n",
       "18       19  2011-01-01       1   0     1  18        0        6           0   \n",
       "19       20  2011-01-01       1   0     1  19        0        6           0   \n",
       "20       21  2011-01-01       1   0     1  20        0        6           0   \n",
       "21       22  2011-01-01       1   0     1  21        0        6           0   \n",
       "22       23  2011-01-01       1   0     1  22        0        6           0   \n",
       "23       24  2011-01-01       1   0     1  23        0        6           0   \n",
       "24       25  2011-01-02       1   0     1   0        0        0           0   \n",
       "25       26  2011-01-02       1   0     1   1        0        0           0   \n",
       "26       27  2011-01-02       1   0     1   2        0        0           0   \n",
       "27       28  2011-01-02       1   0     1   3        0        0           0   \n",
       "28       29  2011-01-02       1   0     1   4        0        0           0   \n",
       "29       30  2011-01-02       1   0     1   6        0        0           0   \n",
       "\n",
       "    weathersit  temp   atemp   hum  windspeed  casual  registered  count  \n",
       "0            1  0.24  0.2879  0.81     0.0000       3          13     16  \n",
       "1            1  0.22  0.2727  0.80     0.0000       8          32     40  \n",
       "2            1  0.22  0.2727  0.80     0.0000       5          27     32  \n",
       "3            1  0.24  0.2879  0.75     0.0000       3          10     13  \n",
       "4            1  0.24  0.2879  0.75     0.0000       0           1      1  \n",
       "5            2  0.24  0.2576  0.75     0.0896       0           1      1  \n",
       "6            1  0.22  0.2727  0.80     0.0000       2           0      2  \n",
       "7            1  0.20  0.2576  0.86     0.0000       1           2      3  \n",
       "8            1  0.24  0.2879  0.75     0.0000       1           7      8  \n",
       "9            1  0.32  0.3485  0.76     0.0000       8           6     14  \n",
       "10           1  0.38  0.3939  0.76     0.2537      12          24     36  \n",
       "11           1  0.36  0.3333  0.81     0.2836      26          30     56  \n",
       "12           1  0.42  0.4242  0.77     0.2836      29          55     84  \n",
       "13           2  0.46  0.4545  0.72     0.2985      47          47     94  \n",
       "14           2  0.46  0.4545  0.72     0.2836      35          71    106  \n",
       "15           2  0.44  0.4394  0.77     0.2985      40          70    110  \n",
       "16           2  0.42  0.4242  0.82     0.2985      41          52     93  \n",
       "17           2  0.44  0.4394  0.82     0.2836      15          52     67  \n",
       "18           3  0.42  0.4242  0.88     0.2537       9          26     35  \n",
       "19           3  0.42  0.4242  0.88     0.2537       6          31     37  \n",
       "20           2  0.40  0.4091  0.87     0.2537      11          25     36  \n",
       "21           2  0.40  0.4091  0.87     0.1940       3          31     34  \n",
       "22           2  0.40  0.4091  0.94     0.2239      11          17     28  \n",
       "23           2  0.46  0.4545  0.88     0.2985      15          24     39  \n",
       "24           2  0.46  0.4545  0.88     0.2985       4          13     17  \n",
       "25           2  0.44  0.4394  0.94     0.2537       1          16     17  \n",
       "26           2  0.42  0.4242  1.00     0.2836       1           8      9  \n",
       "27           2  0.46  0.4545  0.94     0.1940       2           4      6  \n",
       "28           2  0.46  0.4545  0.94     0.1940       2           1      3  \n",
       "29           3  0.42  0.4242  0.77     0.2985       0           2      2  "
      ]
     },
     "execution_count": 2,
     "metadata": {},
     "output_type": "execute_result"
    }
   ],
   "source": [
    "hour.head(30)"
   ]
  },
  {
   "cell_type": "markdown",
   "id": "2a759364",
   "metadata": {
    "slideshow": {
     "slide_type": "slide"
    }
   },
   "source": [
    "- Looking at the first 20 or so hours, for example, you can see that in most hours, you have more registered users than casual users (higher values in the registered column than the casual column). \n",
    "- This is just a simple numeric fact, but as the CEO, you should think through its implications for your business. "
   ]
  },
  {
   "cell_type": "markdown",
   "id": "4255621e",
   "metadata": {
    "slideshow": {
     "slide_type": "slide"
    }
   },
   "source": [
    "- Having more registered than casual users might mean that you’re doing well at convincing people to register, but it also might mean that using your service casually without registering isn’t as easy as it should be. \n",
    "- You’ll have to think about which segment of customers is more important for you to target: the regular, registered users, like daily commuters, or the casual, infrequent users, like sightseeing tourists."
   ]
  },
  {
   "cell_type": "markdown",
   "id": "2d24e11d",
   "metadata": {
    "slideshow": {
     "slide_type": "slide"
    }
   },
   "source": [
    "- We can look more closely at the daily patterns of casual and registered users to see if we can learn more about them. \n",
    "- Let’s look at the hours again. \n",
    "- We see that casual users are sparse until the afternoon of the first day and peak around 1 PM. \n"
   ]
  },
  {
   "cell_type": "markdown",
   "id": "10a06980",
   "metadata": {
    "slideshow": {
     "slide_type": "slide"
    }
   },
   "source": [
    "- Registered users are relatively numerous even at 1 AM of the first day and peak at 2 PM. \n",
    "- The differences between the behavior of registered and casual users are small but could be meaningful. \n",
    "- For example, they could indicate demographic differences between these groups. \n",
    "- This, in turn, could require using different marketing strategies targeted to each group."
   ]
  },
  {
   "cell_type": "markdown",
   "id": "01a57540",
   "metadata": {
    "slideshow": {
     "slide_type": "slide"
    }
   },
   "source": [
    "## Calculating Summary Statistics\n",
    "- Besides just looking at our data, quantifying its important attributes will be helpful. \n",
    "- We can start by calculating the mean of one of the columns, as follows:"
   ]
  },
  {
   "cell_type": "code",
   "execution_count": 3,
   "id": "36b77336",
   "metadata": {
    "slideshow": {
     "slide_type": "slide"
    }
   },
   "outputs": [
    {
     "name": "stdout",
     "output_type": "stream",
     "text": [
      "189.46308763450142\n",
      "0         16\n",
      "1         40\n",
      "2         32\n",
      "3         13\n",
      "4          1\n",
      "        ... \n",
      "17374    119\n",
      "17375     89\n",
      "17376     90\n",
      "17377     61\n",
      "17378     49\n",
      "Name: count, Length: 17379, dtype: int64\n"
     ]
    }
   ],
   "source": [
    "print(hour['count'].mean())\n",
    "# accessing the 'count' column of the hour dataset\n",
    "# hour['count'] prints the entire column\n",
    "print(hour['count'])"
   ]
  },
  {
   "cell_type": "code",
   "execution_count": 4,
   "id": "427141a3",
   "metadata": {
    "slideshow": {
     "slide_type": "slide"
    }
   },
   "outputs": [
    {
     "name": "stdout",
     "output_type": "stream",
     "text": [
      "142.0\n",
      "181.38759909186473\n",
      "0\n",
      "886\n"
     ]
    }
   ],
   "source": [
    "# calculating other metrics\n",
    "print(hour['count'].median())\n",
    "print(hour['count'].std())\n",
    "print(hour['registered'].min())\n",
    "print(hour['registered'].max())\n",
    "# \"These simple calculations are called summary statistics, \n",
    "# and they’re useful to check for every dataset you ever work with.”"
   ]
  },
  {
   "cell_type": "code",
   "execution_count": 5,
   "id": "bb3b36ec",
   "metadata": {
    "slideshow": {
     "slide_type": "slide"
    }
   },
   "outputs": [
    {
     "data": {
      "text/html": [
       "<div>\n",
       "<style scoped>\n",
       "    .dataframe tbody tr th:only-of-type {\n",
       "        vertical-align: middle;\n",
       "    }\n",
       "\n",
       "    .dataframe tbody tr th {\n",
       "        vertical-align: top;\n",
       "    }\n",
       "\n",
       "    .dataframe thead th {\n",
       "        text-align: right;\n",
       "    }\n",
       "</style>\n",
       "<table border=\"1\" class=\"dataframe\">\n",
       "  <thead>\n",
       "    <tr style=\"text-align: right;\">\n",
       "      <th></th>\n",
       "      <th>instant</th>\n",
       "      <th>season</th>\n",
       "      <th>yr</th>\n",
       "      <th>mnth</th>\n",
       "      <th>hr</th>\n",
       "      <th>holiday</th>\n",
       "      <th>weekday</th>\n",
       "      <th>workingday</th>\n",
       "      <th>weathersit</th>\n",
       "      <th>temp</th>\n",
       "      <th>atemp</th>\n",
       "      <th>hum</th>\n",
       "      <th>windspeed</th>\n",
       "      <th>casual</th>\n",
       "      <th>registered</th>\n",
       "      <th>count</th>\n",
       "    </tr>\n",
       "  </thead>\n",
       "  <tbody>\n",
       "    <tr>\n",
       "      <th>count</th>\n",
       "      <td>17379.0000</td>\n",
       "      <td>17379.000000</td>\n",
       "      <td>17379.000000</td>\n",
       "      <td>17379.000000</td>\n",
       "      <td>17379.000000</td>\n",
       "      <td>17379.000000</td>\n",
       "      <td>17379.000000</td>\n",
       "      <td>17379.000000</td>\n",
       "      <td>17379.000000</td>\n",
       "      <td>17379.000000</td>\n",
       "      <td>17379.000000</td>\n",
       "      <td>17379.000000</td>\n",
       "      <td>17379.000000</td>\n",
       "      <td>17379.000000</td>\n",
       "      <td>17379.000000</td>\n",
       "      <td>17379.000000</td>\n",
       "    </tr>\n",
       "    <tr>\n",
       "      <th>mean</th>\n",
       "      <td>8690.0000</td>\n",
       "      <td>2.501640</td>\n",
       "      <td>0.502561</td>\n",
       "      <td>6.537775</td>\n",
       "      <td>11.546752</td>\n",
       "      <td>0.028770</td>\n",
       "      <td>3.003683</td>\n",
       "      <td>0.682721</td>\n",
       "      <td>1.425283</td>\n",
       "      <td>0.496987</td>\n",
       "      <td>0.475775</td>\n",
       "      <td>0.627229</td>\n",
       "      <td>0.190098</td>\n",
       "      <td>35.676218</td>\n",
       "      <td>153.786869</td>\n",
       "      <td>189.463088</td>\n",
       "    </tr>\n",
       "    <tr>\n",
       "      <th>std</th>\n",
       "      <td>5017.0295</td>\n",
       "      <td>1.106918</td>\n",
       "      <td>0.500008</td>\n",
       "      <td>3.438776</td>\n",
       "      <td>6.914405</td>\n",
       "      <td>0.167165</td>\n",
       "      <td>2.005771</td>\n",
       "      <td>0.465431</td>\n",
       "      <td>0.639357</td>\n",
       "      <td>0.192556</td>\n",
       "      <td>0.171850</td>\n",
       "      <td>0.192930</td>\n",
       "      <td>0.122340</td>\n",
       "      <td>49.305030</td>\n",
       "      <td>151.357286</td>\n",
       "      <td>181.387599</td>\n",
       "    </tr>\n",
       "    <tr>\n",
       "      <th>min</th>\n",
       "      <td>1.0000</td>\n",
       "      <td>1.000000</td>\n",
       "      <td>0.000000</td>\n",
       "      <td>1.000000</td>\n",
       "      <td>0.000000</td>\n",
       "      <td>0.000000</td>\n",
       "      <td>0.000000</td>\n",
       "      <td>0.000000</td>\n",
       "      <td>1.000000</td>\n",
       "      <td>0.020000</td>\n",
       "      <td>0.000000</td>\n",
       "      <td>0.000000</td>\n",
       "      <td>0.000000</td>\n",
       "      <td>0.000000</td>\n",
       "      <td>0.000000</td>\n",
       "      <td>1.000000</td>\n",
       "    </tr>\n",
       "    <tr>\n",
       "      <th>25%</th>\n",
       "      <td>4345.5000</td>\n",
       "      <td>2.000000</td>\n",
       "      <td>0.000000</td>\n",
       "      <td>4.000000</td>\n",
       "      <td>6.000000</td>\n",
       "      <td>0.000000</td>\n",
       "      <td>1.000000</td>\n",
       "      <td>0.000000</td>\n",
       "      <td>1.000000</td>\n",
       "      <td>0.340000</td>\n",
       "      <td>0.333300</td>\n",
       "      <td>0.480000</td>\n",
       "      <td>0.104500</td>\n",
       "      <td>4.000000</td>\n",
       "      <td>34.000000</td>\n",
       "      <td>40.000000</td>\n",
       "    </tr>\n",
       "    <tr>\n",
       "      <th>50%</th>\n",
       "      <td>8690.0000</td>\n",
       "      <td>3.000000</td>\n",
       "      <td>1.000000</td>\n",
       "      <td>7.000000</td>\n",
       "      <td>12.000000</td>\n",
       "      <td>0.000000</td>\n",
       "      <td>3.000000</td>\n",
       "      <td>1.000000</td>\n",
       "      <td>1.000000</td>\n",
       "      <td>0.500000</td>\n",
       "      <td>0.484800</td>\n",
       "      <td>0.630000</td>\n",
       "      <td>0.194000</td>\n",
       "      <td>17.000000</td>\n",
       "      <td>115.000000</td>\n",
       "      <td>142.000000</td>\n",
       "    </tr>\n",
       "    <tr>\n",
       "      <th>75%</th>\n",
       "      <td>13034.5000</td>\n",
       "      <td>3.000000</td>\n",
       "      <td>1.000000</td>\n",
       "      <td>10.000000</td>\n",
       "      <td>18.000000</td>\n",
       "      <td>0.000000</td>\n",
       "      <td>5.000000</td>\n",
       "      <td>1.000000</td>\n",
       "      <td>2.000000</td>\n",
       "      <td>0.660000</td>\n",
       "      <td>0.621200</td>\n",
       "      <td>0.780000</td>\n",
       "      <td>0.253700</td>\n",
       "      <td>48.000000</td>\n",
       "      <td>220.000000</td>\n",
       "      <td>281.000000</td>\n",
       "    </tr>\n",
       "    <tr>\n",
       "      <th>max</th>\n",
       "      <td>17379.0000</td>\n",
       "      <td>4.000000</td>\n",
       "      <td>1.000000</td>\n",
       "      <td>12.000000</td>\n",
       "      <td>23.000000</td>\n",
       "      <td>1.000000</td>\n",
       "      <td>6.000000</td>\n",
       "      <td>1.000000</td>\n",
       "      <td>4.000000</td>\n",
       "      <td>1.000000</td>\n",
       "      <td>1.000000</td>\n",
       "      <td>1.000000</td>\n",
       "      <td>0.850700</td>\n",
       "      <td>367.000000</td>\n",
       "      <td>886.000000</td>\n",
       "      <td>977.000000</td>\n",
       "    </tr>\n",
       "  </tbody>\n",
       "</table>\n",
       "</div>"
      ],
      "text/plain": [
       "          instant        season            yr          mnth            hr  \\\n",
       "count  17379.0000  17379.000000  17379.000000  17379.000000  17379.000000   \n",
       "mean    8690.0000      2.501640      0.502561      6.537775     11.546752   \n",
       "std     5017.0295      1.106918      0.500008      3.438776      6.914405   \n",
       "min        1.0000      1.000000      0.000000      1.000000      0.000000   \n",
       "25%     4345.5000      2.000000      0.000000      4.000000      6.000000   \n",
       "50%     8690.0000      3.000000      1.000000      7.000000     12.000000   \n",
       "75%    13034.5000      3.000000      1.000000     10.000000     18.000000   \n",
       "max    17379.0000      4.000000      1.000000     12.000000     23.000000   \n",
       "\n",
       "            holiday       weekday    workingday    weathersit          temp  \\\n",
       "count  17379.000000  17379.000000  17379.000000  17379.000000  17379.000000   \n",
       "mean       0.028770      3.003683      0.682721      1.425283      0.496987   \n",
       "std        0.167165      2.005771      0.465431      0.639357      0.192556   \n",
       "min        0.000000      0.000000      0.000000      1.000000      0.020000   \n",
       "25%        0.000000      1.000000      0.000000      1.000000      0.340000   \n",
       "50%        0.000000      3.000000      1.000000      1.000000      0.500000   \n",
       "75%        0.000000      5.000000      1.000000      2.000000      0.660000   \n",
       "max        1.000000      6.000000      1.000000      4.000000      1.000000   \n",
       "\n",
       "              atemp           hum     windspeed        casual    registered  \\\n",
       "count  17379.000000  17379.000000  17379.000000  17379.000000  17379.000000   \n",
       "mean       0.475775      0.627229      0.190098     35.676218    153.786869   \n",
       "std        0.171850      0.192930      0.122340     49.305030    151.357286   \n",
       "min        0.000000      0.000000      0.000000      0.000000      0.000000   \n",
       "25%        0.333300      0.480000      0.104500      4.000000     34.000000   \n",
       "50%        0.484800      0.630000      0.194000     17.000000    115.000000   \n",
       "75%        0.621200      0.780000      0.253700     48.000000    220.000000   \n",
       "max        1.000000      1.000000      0.850700    367.000000    886.000000   \n",
       "\n",
       "              count  \n",
       "count  17379.000000  \n",
       "mean     189.463088  \n",
       "std      181.387599  \n",
       "min        1.000000  \n",
       "25%       40.000000  \n",
       "50%      142.000000  \n",
       "75%      281.000000  \n",
       "max      977.000000  "
      ]
     },
     "execution_count": 5,
     "metadata": {},
     "output_type": "execute_result"
    }
   ],
   "source": [
    "hour.describe()"
   ]
  },
  {
   "cell_type": "markdown",
   "id": "8637277f",
   "metadata": {
    "slideshow": {
     "slide_type": "slide"
    }
   },
   "source": [
    "- The table that we get from the `describe()` method is also useful to help us check for problems with the data.\n",
    "- It’s common for datasets to contain major errors that can be spotted in the output of `describe()`. \n",
    "- For example, if you run the `describe()` method on a dataset of people and see that their average age is **200**, your data has errors. "
   ]
  },
  {
   "cell_type": "markdown",
   "id": "4101e33d",
   "metadata": {
    "slideshow": {
     "slide_type": "slide"
    }
   },
   "source": [
    "- This may sound obvious, but that exact error (average ages greater than **200**) was recently found in a well-known research paper published in a top academic journal—if only those researchers had used `describe()`! \n",
    "- You should look at the output of `describe()` for every dataset you work with to make sure that all the values are at least plausible. \n",
    "- If you find average ages over **200**, or other data that doesn’t look credible, you’ll have to locate the problems in the data and fix them."
   ]
  },
  {
   "cell_type": "markdown",
   "id": "f6fa49c2",
   "metadata": {
    "slideshow": {
     "slide_type": "slide"
    }
   },
   "source": [
    "- At this stage, we can already start to use what we’ve learned from the data to get ideas for improving the business. \n",
    "- For example, we’ve seen that in the first 24 hours of our data, rider numbers at night are much lower than rider numbers during the day. "
   ]
  },
  {
   "cell_type": "markdown",
   "id": "7a242e45",
   "metadata": {
    "slideshow": {
     "slide_type": "slide"
    }
   },
   "source": [
    "- We’ve also seen a wide variation in the hourly count of users: 25 percent of hours have fewer than 40 riders, but one hour had 886 riders. \n",
    "- As the CEO, you may want more hours that have closer to 886 riders and fewer hours that have fewer than 40 riders."
   ]
  },
  {
   "cell_type": "markdown",
   "id": "77e85d04",
   "metadata": {
    "slideshow": {
     "slide_type": "slide"
    }
   },
   "source": [
    "- You could pursue this goal in many ways. \n",
    "- For example, you might lower prices during the night to get more customers at that time and therefore have fewer hours with low ridership. \n",
    "- Just through simple exploration, you can continue to learn from the data and get ideas for improving the business."
   ]
  },
  {
   "cell_type": "markdown",
   "id": "316e089e",
   "metadata": {
    "slideshow": {
     "slide_type": "slide"
    }
   },
   "source": [
    "## Analyzing Subsets of Data\n",
    "- We’ve checked summary statistics related to the full dataset, and then considered offering lower prices at night to increase nighttime ridership. \n",
    "- If we really want to pursue this idea, we should check summary statistics related to just the nighttime."
   ]
  },
  {
   "cell_type": "markdown",
   "id": "29f3edc4",
   "metadata": {
    "slideshow": {
     "slide_type": "slide"
    }
   },
   "source": [
    "### Nighttime Data"
   ]
  },
  {
   "cell_type": "code",
   "execution_count": 6,
   "id": "8eb4114e",
   "metadata": {
    "slideshow": {
     "slide_type": "slide"
    }
   },
   "outputs": [
    {
     "name": "stdout",
     "output_type": "stream",
     "text": [
      "13\n"
     ]
    }
   ],
   "source": [
    "# Nighttime Data\n",
    "print(hour.loc[3,'count'])\n",
    "# “loc() method allows us to specify a subset of our full data\"\n",
    "# \"loc[row, column]”"
   ]
  },
  {
   "cell_type": "markdown",
   "id": "d7444304",
   "metadata": {
    "slideshow": {
     "slide_type": "slide"
    }
   },
   "source": [
    "- This `loc()` method allows us to specify a subset of our full data. \n",
    "- When we use `loc()`, we specify the subset we want to select by using square brackets with this pattern: `[<row>,<column>]`. \n",
    "- Here, we specify `[3,'count']`, indicating that we want to select row 3 of our data and the count column."
   ]
  },
  {
   "cell_type": "markdown",
   "id": "22f614d5",
   "metadata": {
    "slideshow": {
     "slide_type": "slide"
    }
   },
   "source": [
    "One important thing to point out here is that the standard practice in Python, as well as in pandas, is to use _zero-based indexing_."
   ]
  },
  {
   "cell_type": "markdown",
   "id": "2ee07ae0",
   "metadata": {
    "slideshow": {
     "slide_type": "slide"
    }
   },
   "source": [
    "- You may want to know about a subset that consists of multiple rows or multiple columns. \n",
    "- By using a colon (`:`), we can specify a range of rows we want to look at:"
   ]
  },
  {
   "cell_type": "code",
   "execution_count": 7,
   "id": "a82d87a0",
   "metadata": {
    "slideshow": {
     "slide_type": "slide"
    }
   },
   "outputs": [
    {
     "name": "stdout",
     "output_type": "stream",
     "text": [
      "2    27\n",
      "3    10\n",
      "4     1\n",
      "Name: registered, dtype: int64\n"
     ]
    }
   ],
   "source": [
    "print(hour.loc[2:4, 'registered'])\n",
    "# prints rows 2, 3, and 4 of the 'registered' column"
   ]
  },
  {
   "cell_type": "markdown",
   "id": "325476f7",
   "metadata": {
    "slideshow": {
     "slide_type": "slide"
    }
   },
   "source": [
    "- In this snippet, we specify that we want values of the registered variable. \n",
    "- By specifying `2:4` in the square brackets, we indicate that we want all the rows between row 2 and row 4, so we get three numbers as output: `27`, `10`, and `1`. "
   ]
  },
  {
   "cell_type": "markdown",
   "id": "cab27230",
   "metadata": {
    "slideshow": {
     "slide_type": "slide"
    }
   },
   "source": [
    "- If you look at these rows, you can see that these observations are related to the hours 2 AM, 3 AM, and 4 AM.\n",
    "- Instead of printing out all the data, we’re printing out just three rows. Since we are printing out only a subset, we can call this process _subsetting_ $\\Rightarrow$ selecting subsets of data. \n",
    "- This can be useful when exploring and analyzing data."
   ]
  },
  {
   "cell_type": "markdown",
   "id": "4a0cadb7",
   "metadata": {
    "slideshow": {
     "slide_type": "slide"
    }
   },
   "source": [
    "- Instead of looking at a few adjacent rows at a time, let’s look at all the nighttime observations in our data. \n",
    "- We can use logical conditions with the `loc()` method:"
   ]
  },
  {
   "cell_type": "code",
   "execution_count": 8,
   "id": "38bce48f",
   "metadata": {
    "slideshow": {
     "slide_type": "slide"
    }
   },
   "outputs": [
    {
     "name": "stdout",
     "output_type": "stream",
     "text": [
      "20.7881427367238\n"
     ]
    }
   ],
   "source": [
    "print(hour.loc[hour['hr']<5,'registered'].mean())\n",
    "#“specifies a logical condition: hour['hr']<5, meaning that it will select every row in our data for which the \n",
    "# value of the hr variable is less than 5”\n",
    "# \"Then, for those rows, it will select the registered column and calculate the mean of that subset of data.\""
   ]
  },
  {
   "cell_type": "markdown",
   "id": "4ec1f287",
   "metadata": {
    "slideshow": {
     "slide_type": "slide"
    }
   },
   "source": [
    "- This snippet uses `loc()` to access a subset of the data, just as we’ve done before. \n",
    "- However, instead of specifying particular row numbers, it specifies a **logical condition**: `hour['hr']<5`, meaning that it will select every row in our data for which the value of the hr variable is less than 5. \n",
    "- This will give us a subset of the data corresponding to the earliest hours of the morning (midnight to 4 AM). \n",
    "- We can specify multiple conditions for more complex logic."
   ]
  },
  {
   "cell_type": "markdown",
   "id": "d0739eb6",
   "metadata": {
    "slideshow": {
     "slide_type": "slide"
    }
   },
   "source": [
    "- This will give us a subset of the data corresponding to the earliest hours of the morning (midnight to 4 AM). \n",
    "- We can specify multiple conditions for more complex logic."
   ]
  },
  {
   "cell_type": "markdown",
   "id": "f8d5f84b",
   "metadata": {
    "slideshow": {
     "slide_type": "slide"
    }
   },
   "source": [
    "For example, we can check specifically for ridership counts on colder early mornings or warmer early mornings:"
   ]
  },
  {
   "cell_type": "code",
   "execution_count": 9,
   "id": "eb080516",
   "metadata": {
    "slideshow": {
     "slide_type": "slide"
    }
   },
   "outputs": [
    {
     "name": "stdout",
     "output_type": "stream",
     "text": [
      "19.521104742053154\n",
      "33.639322916666664\n"
     ]
    }
   ],
   "source": [
    "print(hour.loc[(hour['hr']<5) & (hour['temp']<.50),'count'].mean())\n",
    "print(hour.loc[(hour['hr']<5) & (hour['temp']>.50),'count'].mean())"
   ]
  },
  {
   "cell_type": "markdown",
   "id": "5eb5e3e3",
   "metadata": {
    "slideshow": {
     "slide_type": "slide"
    }
   },
   "source": [
    "- Here, we specify multiple logical conditions, separated by an `&` character to mean and, which indicates that two things must be true simultaneously. \n",
    "- The first line selects rows that have an `hr` value less than 5 and a `temp` value less than 0.50. \n",
    "- In this dataset, the `temp` variable records temperatures, but not on a Fahrenheit or Celsius scale that we’re familiar with. "
   ]
  },
  {
   "cell_type": "markdown",
   "id": "009646c6",
   "metadata": {
    "slideshow": {
     "slide_type": "slide"
    }
   },
   "source": [
    "Instead, it uses a special scale that puts all temperatures between `0` and `1`, where `0` represents a very cold temperature, and `1` represents a very warm temperature. \n"
   ]
  },
  {
   "cell_type": "markdown",
   "id": "ca7a4d75",
   "metadata": {
    "slideshow": {
     "slide_type": "slide"
    }
   },
   "source": [
    "- Whenever you’re working with data, it’s important to make sure you know exactly which units are used for each variable. \n",
    "- We specify `hour['temp']<.50` to select hours with colder temperatures and `hour['temp']>.50` to select hours with warmer temperatures. \n",
    "- Together, these lines allow us to compare average ridership on cold early mornings with average ridership on warm early mornings."
   ]
  },
  {
   "cell_type": "markdown",
   "id": "f8d234db",
   "metadata": {
    "slideshow": {
     "slide_type": "slide"
    }
   },
   "source": [
    "We can also use the `|` symbol to signify _or_. This could be useful in an example like this:"
   ]
  },
  {
   "cell_type": "code",
   "execution_count": 10,
   "id": "38f3c066",
   "metadata": {
    "slideshow": {
     "slide_type": "slide"
    }
   },
   "outputs": [
    {
     "name": "stdout",
     "output_type": "stream",
     "text": [
      "193.36764103264582\n"
     ]
    }
   ],
   "source": [
    "print(hour.loc[(hour['temp']>0.5) | (hour['hum']>0.5),'count'].mean())"
   ]
  },
  {
   "cell_type": "markdown",
   "id": "6b148e68",
   "metadata": {
    "slideshow": {
     "slide_type": "slide"
    }
   },
   "source": [
    "- This line selects the mean readership count for rows with either high temperatures or high humidity $\\Rightarrow$ both aren't required. \n",
    "- Being able to select these complex conditions could help you choose ways to improve ridership during hours with uncomfortable weather."
   ]
  },
  {
   "cell_type": "markdown",
   "id": "ffd54e30",
   "metadata": {
    "slideshow": {
     "slide_type": "slide"
    }
   },
   "source": [
    "### Seasonal Data\n",
    "- A nighttime discount is not the only possible strategy for improving ridership and revenue. \n",
    "- You could also consider specials during certain seasons or at certain times of the year. \n",
    "- In our data, the `season` variable records `1` for winter, `2` for spring, `3` for summer, and `4` for fall. "
   ]
  },
  {
   "cell_type": "markdown",
   "id": "45f01c16",
   "metadata": {
    "slideshow": {
     "slide_type": "slide"
    }
   },
   "source": [
    "We can use the `groupby()` method to find the mean number of users during each of these seasons:"
   ]
  },
  {
   "cell_type": "code",
   "execution_count": 11,
   "id": "06ae4a75",
   "metadata": {
    "slideshow": {
     "slide_type": "slide"
    }
   },
   "outputs": [
    {
     "name": "stdout",
     "output_type": "stream",
     "text": [
      "season\n",
      "1    111.114569\n",
      "2    208.344069\n",
      "3    236.016237\n",
      "4    198.868856\n",
      "Name: count, dtype: float64\n"
     ]
    }
   ],
   "source": [
    "# Seasonal Data\n",
    "print(hour.groupby(['season'])['count'].mean())\n",
    "#“groupby(['...']) is a method that splits the data into groups—in this case, \n",
    "# one group for each unique value that appears in the season column”"
   ]
  },
  {
   "cell_type": "markdown",
   "id": "e68658b7",
   "metadata": {
    "slideshow": {
     "slide_type": "slide"
    }
   },
   "source": [
    "- Interpreting this output is straightforward: \n",
    "    - in the first season (winter), average ridership per hour is about 111.115; \n",
    "    - in the second season (spring), average ridership per hour is about 208.344; and so on. \n",
    "- A definite seasonal pattern exists: higher ridership in the spring and summer seasons, and lower ridership in the fall and winter. "
   ]
  },
  {
   "cell_type": "markdown",
   "id": "0154e4e1",
   "metadata": {
    "slideshow": {
     "slide_type": "slide"
    }
   },
   "source": [
    "The `groupby()` method can also group on multiple columns, as follows:"
   ]
  },
  {
   "cell_type": "code",
   "execution_count": 12,
   "id": "dffc7714",
   "metadata": {
    "slideshow": {
     "slide_type": "slide"
    }
   },
   "outputs": [
    {
     "name": "stdout",
     "output_type": "stream",
     "text": [
      "season  holiday\n",
      "1       0          112.685875\n",
      "        1           72.042683\n",
      "2       0          208.428472\n",
      "        1          204.552083\n",
      "3       0          235.976818\n",
      "        1          237.822917\n",
      "4       0          199.965998\n",
      "        1          167.722222\n",
      "Name: count, dtype: float64\n"
     ]
    }
   ],
   "source": [
    "print(hour.groupby(['season','holiday'])['count'].mean())\n",
    "#“It shows us average ridership counts on holidays and non-holidays separately for each season”\n",
    "#“It shows us average ridership counts on holidays and non-holidays separately for each season”"
   ]
  },
  {
   "cell_type": "markdown",
   "id": "13d77d6d",
   "metadata": {
    "slideshow": {
     "slide_type": "slide"
    }
   },
   "source": [
    "- Here, we specify two columns to group on: `season` and `holiday`. \n",
    "- This splits our hourly data into the four individual seasons, and then splits each season into holidays (denoted by `1`s) and non-holidays (denoted by `0`s). \n",
    "- It shows us average ridership counts on holidays and non-holidays separately for each season. "
   ]
  },
  {
   "cell_type": "markdown",
   "id": "1b5cb152",
   "metadata": {
    "slideshow": {
     "slide_type": "slide"
    }
   },
   "source": [
    "- The result is that we can see the differences between holidays and non-holidays seasonally. \n",
    "- It seems like holidays in the colder seasons have ridership that’s lower than that on non-holidays, and holidays in the warmer seasons have ridership that's roughly equal to that on non-holidays. "
   ]
  },
  {
   "cell_type": "markdown",
   "id": "5ce027b3",
   "metadata": {
    "slideshow": {
     "slide_type": "slide"
    }
   },
   "source": [
    "Understanding these differences can help you make decisions about how to run the business and might give you ideas about strategies you can pursue during different seasons or different holidays."
   ]
  },
  {
   "cell_type": "markdown",
   "id": "dcc3d52b",
   "metadata": {
    "slideshow": {
     "slide_type": "slide"
    }
   },
   "source": [
    "- This dataset is big, and there’s no end to the different ways it can be examined. \n",
    "- We’ve begun to look at a few subsets and started to get a few ideas. \n",
    "- You should do much more: examine subsets related to all the columns and explore many perspectives on the data. \n",
    "- Even without doing advanced statistics and machine learning, you can learn a great deal and get many useful ideas."
   ]
  },
  {
   "cell_type": "markdown",
   "id": "77320fd9",
   "metadata": {
    "slideshow": {
     "slide_type": "slide"
    }
   },
   "source": [
    "## Visualizing Data with Matplotlib\n",
    "- Summary statistics are valuable and useful for exploration. \n",
    "- However, there’s an extremely important part of exploratory data analysis that we haven’t done yet: _plotting_, or visualizing the data in organized charts."
   ]
  },
  {
   "cell_type": "markdown",
   "id": "6e1a9b3c",
   "metadata": {
    "slideshow": {
     "slide_type": "slide"
    }
   },
   "source": [
    "### Drawing and Displaying a Simple Plot\n",
    "- You should plot your data early and often every time you’re doing data analysis. \n",
    "- We’ll use a popular plotting package called **Matplotlib**. \n",
    "- We can draw a simple plot of our data as follows:"
   ]
  },
  {
   "cell_type": "code",
   "execution_count": 18,
   "id": "9e0529c7",
   "metadata": {
    "slideshow": {
     "slide_type": "slide"
    }
   },
   "outputs": [
    {
     "data": {
      "image/png": "[encoded data removed]",
      "text/plain": [
       "<Figure size 1000x600 with 1 Axes>"
      ]
     },
     "metadata": {},
     "output_type": "display_data"
    }
   ],
   "source": [
    "# Drawing and Displaying a Simple Plot\n",
    "import matplotlib.pyplot as plt           # Imports the matplotlib plotting library, commonly used for visualizations.\n",
    "fig, ax = plt.subplots(figsize=(10, 6))  # Creates a figure and axis object for plotting, with a size of 10x6 inches.\n",
    "ax.scatter(x = hour['instant'], y = hour['count'])  # Draws a scatterplot: x-axis is 'instant' (hour index), y-axis is 'temp' (number of riders).\n",
    "plt.xlabel(\"Hour\")\n",
    "plt.ylabel(\"Count\")\n",
    "plt.show()                               # Displays the plot window so you can see the chart."
   ]
  },
  {
   "cell_type": "code",
   "execution_count": 19,
   "id": "1d75797c",
   "metadata": {},
   "outputs": [
    {
     "data": {
      "image/png": "[encoded data removed]",
      "text/plain": [
       "<Figure size 1000x600 with 1 Axes>"
      ]
     },
     "metadata": {},
     "output_type": "display_data"
    }
   ],
   "source": [
    "# Drawing and Displaying a Simple Plot\n",
    "import matplotlib.pyplot as plt           # Imports the matplotlib plotting library, commonly used for visualizations.\n",
    "fig, ax = plt.subplots(figsize=(10, 6))  # Creates a figure and axis object for plotting, with a size of 10x6 inches.\n",
    "ax.scatter(x = hour['instant'], y = hour['temp'])  # Draws a scatterplot: x-axis is 'instant' (hour index), y-axis is 'count' (number of riders).\n",
    "plt.xlabel(\"Hour\")\n",
    "plt.ylabel(\"Temp\")\n",
    "plt.show()\n",
    "plt.show()                               # Displays the plot window so you can see the chart."
   ]
  },
  {
   "cell_type": "markdown",
   "id": "752f3306",
   "metadata": {
    "slideshow": {
     "slide_type": "slide"
    }
   },
   "source": [
    "- Here, we import the Matplotlib package, giving it the alias `plt`. \n",
    "- Next, we create a figure, called `fig`, and an axis, called `ax`. \n",
    "- The figure, `fig`, will contain all the information about whatever plot or group of plots we draw. "
   ]
  },
  {
   "cell_type": "markdown",
   "id": "6e08ea64",
   "metadata": {
    "slideshow": {
     "slide_type": "slide"
    }
   },
   "source": [
    "- The axis, `ax`, will give us access to useful methods for actually drawing plots. \n",
    "- The `subplots()` method creates both of these for us, and inside that method, we can specify a figure size (`figsize`). \n",
    "- In this case, we specify a figure size of `(10,6)`, meaning that our figure will have a width of 10 inches and a height of 6 inches."
   ]
  },
  {
   "cell_type": "markdown",
   "id": "3b928d9e",
   "metadata": {
    "slideshow": {
     "slide_type": "slide"
    }
   },
   "source": [
    "- Next, we draw our plot by using the `scatter()` method. \n",
    "- In `scatter()`, we specify `x=hour['instant']` so the x-axis will show the instant variable in our hour data. \n",
    "- We specify `y=hour['count']` so the y-axis will show the count variable. \n",
    "- Finally, we use `plt.show()` to display this plot onscreen. "
   ]
  },
  {
   "cell_type": "markdown",
   "id": "ddd06f6a",
   "metadata": {
    "slideshow": {
     "slide_type": "slide"
    }
   },
   "source": [
    "- In this plot, you can see that every single point is an hour whose information is recorded in the dataset. \n",
    "- The first hour (the beginning of 2011) is the one that appears at the farthest left of the plot. \n",
    "- The last hour (the end of 2012) is the one that appears at the farthest right, and all other hours proceed in order in between."
   ]
  },
  {
   "cell_type": "markdown",
   "id": "add7d792",
   "metadata": {
    "slideshow": {
     "slide_type": "slide"
    }
   },
   "source": [
    "- This plot, known as a _scatterplot_, is a good first plot to draw because it shows every observation in the data; it also makes relationships easy to visually identify. \n",
    "- In this case, we can see a full representation of the seasonal variation that our `groupby()` statement previously gave us a hint about. We can also see the general growth of ridership over time.\n",
    "\n"
   ]
  },
  {
   "cell_type": "markdown",
   "id": "936abff3",
   "metadata": {
    "slideshow": {
     "slide_type": "slide"
    }
   },
   "source": [
    "### Clarifying Plots with Titles and Labels\n",
    "We can add titles and labels to our plot as follows:"
   ]
  },
  {
   "cell_type": "code",
   "execution_count": 20,
   "id": "3d742a93",
   "metadata": {
    "slideshow": {
     "slide_type": "slide"
    }
   },
   "outputs": [
    {
     "data": {
      "image/png": "[encoded data removed]",
      "text/plain": [
       "<Figure size 1000x600 with 1 Axes>"
      ]
     },
     "metadata": {},
     "output_type": "display_data"
    }
   ],
   "source": [
    "# Clarifying Plots with Titles and Labels\n",
    "fig, ax = plt.subplots(figsize=(10, 6))\n",
    "ax.scatter(x = hour['instant'], y = hour['count'])\n",
    "plt.xlabel(\"Hour\")\n",
    "plt.ylabel(\"Count\")\n",
    "plt.title(\"Ridership Count by Hour\")\n",
    "plt.show()"
   ]
  },
  {
   "cell_type": "markdown",
   "id": "a0c9f1f0",
   "metadata": {
    "slideshow": {
     "slide_type": "slide"
    }
   },
   "source": [
    "- This snippet uses `xlabel()` to add a label to our x-axis, `ylabel()` to add a label to our y-axis, and `title()` to add a title to the plot. \n",
    "- You can specify any text in these methods to get any labels you like. "
   ]
  },
  {
   "cell_type": "markdown",
   "id": "6607bda7",
   "metadata": {
    "slideshow": {
     "slide_type": "slide"
    }
   },
   "source": [
    "Our dataset is very large, and looking at all the data at once is hard. Let’s look at how to plot smaller subsets of our data."
   ]
  },
  {
   "cell_type": "markdown",
   "id": "c0631504",
   "metadata": {
    "slideshow": {
     "slide_type": "slide"
    }
   },
   "source": [
    "### Plotting Subsets of Data\n",
    "We can use the subsetting we did previously to plot only a subset of the data:"
   ]
  },
  {
   "cell_type": "code",
   "execution_count": 21,
   "id": "873a700e",
   "metadata": {
    "slideshow": {
     "slide_type": "slide"
    }
   },
   "outputs": [
    {
     "data": {
      "image/png": "[encoded data removed]",
      "text/plain": [
       "<Figure size 1000x600 with 1 Axes>"
      ]
     },
     "metadata": {},
     "output_type": "display_data"
    }
   ],
   "source": [
    "# Plotting Subsets of Data\n",
    "hour_first48=hour.loc[0:48,:]\n",
    "fig, ax = plt.subplots(figsize=(10, 6))\n",
    "ax.scatter(x = hour_first48['instant'], y = hour_first48['count'])\n",
    "plt.xlabel(\"Hour\")\n",
    "plt.ylabel(\"Count\")\n",
    "plt.title(\"Count by Hour - First Two Days\")\n",
    "plt.show()"
   ]
  },
  {
   "cell_type": "code",
   "execution_count": 24,
   "id": "991c0915-f99a-40fa-8573-5ac2c36e8d44",
   "metadata": {},
   "outputs": [
    {
     "data": {
      "text/html": [
       "<div>\n",
       "<style scoped>\n",
       "    .dataframe tbody tr th:only-of-type {\n",
       "        vertical-align: middle;\n",
       "    }\n",
       "\n",
       "    .dataframe tbody tr th {\n",
       "        vertical-align: top;\n",
       "    }\n",
       "\n",
       "    .dataframe thead th {\n",
       "        text-align: right;\n",
       "    }\n",
       "</style>\n",
       "<table border=\"1\" class=\"dataframe\">\n",
       "  <thead>\n",
       "    <tr style=\"text-align: right;\">\n",
       "      <th></th>\n",
       "      <th>instant</th>\n",
       "      <th>dteday</th>\n",
       "      <th>season</th>\n",
       "      <th>yr</th>\n",
       "      <th>mnth</th>\n",
       "      <th>hr</th>\n",
       "      <th>holiday</th>\n",
       "      <th>weekday</th>\n",
       "      <th>workingday</th>\n",
       "      <th>weathersit</th>\n",
       "      <th>temp</th>\n",
       "      <th>atemp</th>\n",
       "      <th>hum</th>\n",
       "      <th>windspeed</th>\n",
       "      <th>casual</th>\n",
       "      <th>registered</th>\n",
       "      <th>count</th>\n",
       "    </tr>\n",
       "  </thead>\n",
       "  <tbody>\n",
       "    <tr>\n",
       "      <th>17307</th>\n",
       "      <td>17308</td>\n",
       "      <td>2012-12-29</td>\n",
       "      <td>1</td>\n",
       "      <td>1</td>\n",
       "      <td>12</td>\n",
       "      <td>0</td>\n",
       "      <td>0</td>\n",
       "      <td>6</td>\n",
       "      <td>0</td>\n",
       "      <td>2</td>\n",
       "      <td>0.24</td>\n",
       "      <td>0.2424</td>\n",
       "      <td>0.70</td>\n",
       "      <td>0.0000</td>\n",
       "      <td>1</td>\n",
       "      <td>25</td>\n",
       "      <td>26</td>\n",
       "    </tr>\n",
       "    <tr>\n",
       "      <th>17308</th>\n",
       "      <td>17309</td>\n",
       "      <td>2012-12-29</td>\n",
       "      <td>1</td>\n",
       "      <td>1</td>\n",
       "      <td>12</td>\n",
       "      <td>1</td>\n",
       "      <td>0</td>\n",
       "      <td>6</td>\n",
       "      <td>0</td>\n",
       "      <td>2</td>\n",
       "      <td>0.24</td>\n",
       "      <td>0.2424</td>\n",
       "      <td>0.75</td>\n",
       "      <td>0.0896</td>\n",
       "      <td>6</td>\n",
       "      <td>31</td>\n",
       "      <td>37</td>\n",
       "    </tr>\n",
       "    <tr>\n",
       "      <th>17309</th>\n",
       "      <td>17310</td>\n",
       "      <td>2012-12-29</td>\n",
       "      <td>1</td>\n",
       "      <td>1</td>\n",
       "      <td>12</td>\n",
       "      <td>2</td>\n",
       "      <td>0</td>\n",
       "      <td>6</td>\n",
       "      <td>0</td>\n",
       "      <td>2</td>\n",
       "      <td>0.24</td>\n",
       "      <td>0.2424</td>\n",
       "      <td>0.70</td>\n",
       "      <td>0.0000</td>\n",
       "      <td>1</td>\n",
       "      <td>18</td>\n",
       "      <td>19</td>\n",
       "    </tr>\n",
       "    <tr>\n",
       "      <th>17310</th>\n",
       "      <td>17311</td>\n",
       "      <td>2012-12-29</td>\n",
       "      <td>1</td>\n",
       "      <td>1</td>\n",
       "      <td>12</td>\n",
       "      <td>3</td>\n",
       "      <td>0</td>\n",
       "      <td>6</td>\n",
       "      <td>0</td>\n",
       "      <td>2</td>\n",
       "      <td>0.24</td>\n",
       "      <td>0.2424</td>\n",
       "      <td>0.75</td>\n",
       "      <td>0.0000</td>\n",
       "      <td>1</td>\n",
       "      <td>5</td>\n",
       "      <td>6</td>\n",
       "    </tr>\n",
       "    <tr>\n",
       "      <th>17311</th>\n",
       "      <td>17312</td>\n",
       "      <td>2012-12-29</td>\n",
       "      <td>1</td>\n",
       "      <td>1</td>\n",
       "      <td>12</td>\n",
       "      <td>4</td>\n",
       "      <td>0</td>\n",
       "      <td>6</td>\n",
       "      <td>0</td>\n",
       "      <td>2</td>\n",
       "      <td>0.24</td>\n",
       "      <td>0.2424</td>\n",
       "      <td>0.75</td>\n",
       "      <td>0.0896</td>\n",
       "      <td>0</td>\n",
       "      <td>3</td>\n",
       "      <td>3</td>\n",
       "    </tr>\n",
       "    <tr>\n",
       "      <th>...</th>\n",
       "      <td>...</td>\n",
       "      <td>...</td>\n",
       "      <td>...</td>\n",
       "      <td>...</td>\n",
       "      <td>...</td>\n",
       "      <td>...</td>\n",
       "      <td>...</td>\n",
       "      <td>...</td>\n",
       "      <td>...</td>\n",
       "      <td>...</td>\n",
       "      <td>...</td>\n",
       "      <td>...</td>\n",
       "      <td>...</td>\n",
       "      <td>...</td>\n",
       "      <td>...</td>\n",
       "      <td>...</td>\n",
       "      <td>...</td>\n",
       "    </tr>\n",
       "    <tr>\n",
       "      <th>17374</th>\n",
       "      <td>17375</td>\n",
       "      <td>2012-12-31</td>\n",
       "      <td>1</td>\n",
       "      <td>1</td>\n",
       "      <td>12</td>\n",
       "      <td>19</td>\n",
       "      <td>0</td>\n",
       "      <td>1</td>\n",
       "      <td>1</td>\n",
       "      <td>2</td>\n",
       "      <td>0.26</td>\n",
       "      <td>0.2576</td>\n",
       "      <td>0.60</td>\n",
       "      <td>0.1642</td>\n",
       "      <td>11</td>\n",
       "      <td>108</td>\n",
       "      <td>119</td>\n",
       "    </tr>\n",
       "    <tr>\n",
       "      <th>17375</th>\n",
       "      <td>17376</td>\n",
       "      <td>2012-12-31</td>\n",
       "      <td>1</td>\n",
       "      <td>1</td>\n",
       "      <td>12</td>\n",
       "      <td>20</td>\n",
       "      <td>0</td>\n",
       "      <td>1</td>\n",
       "      <td>1</td>\n",
       "      <td>2</td>\n",
       "      <td>0.26</td>\n",
       "      <td>0.2576</td>\n",
       "      <td>0.60</td>\n",
       "      <td>0.1642</td>\n",
       "      <td>8</td>\n",
       "      <td>81</td>\n",
       "      <td>89</td>\n",
       "    </tr>\n",
       "    <tr>\n",
       "      <th>17376</th>\n",
       "      <td>17377</td>\n",
       "      <td>2012-12-31</td>\n",
       "      <td>1</td>\n",
       "      <td>1</td>\n",
       "      <td>12</td>\n",
       "      <td>21</td>\n",
       "      <td>0</td>\n",
       "      <td>1</td>\n",
       "      <td>1</td>\n",
       "      <td>1</td>\n",
       "      <td>0.26</td>\n",
       "      <td>0.2576</td>\n",
       "      <td>0.60</td>\n",
       "      <td>0.1642</td>\n",
       "      <td>7</td>\n",
       "      <td>83</td>\n",
       "      <td>90</td>\n",
       "    </tr>\n",
       "    <tr>\n",
       "      <th>17377</th>\n",
       "      <td>17378</td>\n",
       "      <td>2012-12-31</td>\n",
       "      <td>1</td>\n",
       "      <td>1</td>\n",
       "      <td>12</td>\n",
       "      <td>22</td>\n",
       "      <td>0</td>\n",
       "      <td>1</td>\n",
       "      <td>1</td>\n",
       "      <td>1</td>\n",
       "      <td>0.26</td>\n",
       "      <td>0.2727</td>\n",
       "      <td>0.56</td>\n",
       "      <td>0.1343</td>\n",
       "      <td>13</td>\n",
       "      <td>48</td>\n",
       "      <td>61</td>\n",
       "    </tr>\n",
       "    <tr>\n",
       "      <th>17378</th>\n",
       "      <td>17379</td>\n",
       "      <td>2012-12-31</td>\n",
       "      <td>1</td>\n",
       "      <td>1</td>\n",
       "      <td>12</td>\n",
       "      <td>23</td>\n",
       "      <td>0</td>\n",
       "      <td>1</td>\n",
       "      <td>1</td>\n",
       "      <td>1</td>\n",
       "      <td>0.26</td>\n",
       "      <td>0.2727</td>\n",
       "      <td>0.65</td>\n",
       "      <td>0.1343</td>\n",
       "      <td>12</td>\n",
       "      <td>37</td>\n",
       "      <td>49</td>\n",
       "    </tr>\n",
       "  </tbody>\n",
       "</table>\n",
       "<p>72 rows × 17 columns</p>\n",
       "</div>"
      ],
      "text/plain": [
       "       instant      dteday  season  yr  mnth  hr  holiday  weekday  \\\n",
       "17307    17308  2012-12-29       1   1    12   0        0        6   \n",
       "17308    17309  2012-12-29       1   1    12   1        0        6   \n",
       "17309    17310  2012-12-29       1   1    12   2        0        6   \n",
       "17310    17311  2012-12-29       1   1    12   3        0        6   \n",
       "17311    17312  2012-12-29       1   1    12   4        0        6   \n",
       "...        ...         ...     ...  ..   ...  ..      ...      ...   \n",
       "17374    17375  2012-12-31       1   1    12  19        0        1   \n",
       "17375    17376  2012-12-31       1   1    12  20        0        1   \n",
       "17376    17377  2012-12-31       1   1    12  21        0        1   \n",
       "17377    17378  2012-12-31       1   1    12  22        0        1   \n",
       "17378    17379  2012-12-31       1   1    12  23        0        1   \n",
       "\n",
       "       workingday  weathersit  temp   atemp   hum  windspeed  casual  \\\n",
       "17307           0           2  0.24  0.2424  0.70     0.0000       1   \n",
       "17308           0           2  0.24  0.2424  0.75     0.0896       6   \n",
       "17309           0           2  0.24  0.2424  0.70     0.0000       1   \n",
       "17310           0           2  0.24  0.2424  0.75     0.0000       1   \n",
       "17311           0           2  0.24  0.2424  0.75     0.0896       0   \n",
       "...           ...         ...   ...     ...   ...        ...     ...   \n",
       "17374           1           2  0.26  0.2576  0.60     0.1642      11   \n",
       "17375           1           2  0.26  0.2576  0.60     0.1642       8   \n",
       "17376           1           1  0.26  0.2576  0.60     0.1642       7   \n",
       "17377           1           1  0.26  0.2727  0.56     0.1343      13   \n",
       "17378           1           1  0.26  0.2727  0.65     0.1343      12   \n",
       "\n",
       "       registered  count  \n",
       "17307          25     26  \n",
       "17308          31     37  \n",
       "17309          18     19  \n",
       "17310           5      6  \n",
       "17311           3      3  \n",
       "...           ...    ...  \n",
       "17374         108    119  \n",
       "17375          81     89  \n",
       "17376          83     90  \n",
       "17377          48     61  \n",
       "17378          37     49  \n",
       "\n",
       "[72 rows x 17 columns]"
      ]
     },
     "execution_count": 24,
     "metadata": {},
     "output_type": "execute_result"
    }
   ],
   "source": [
    "# Plotting Subsets of Data\n",
    "hour.tail(72)"
   ]
  },
  {
   "cell_type": "code",
   "execution_count": 30,
   "id": "dbd87dfe-26e7-4981-acae-9b827af41784",
   "metadata": {},
   "outputs": [
    {
     "data": {
      "image/png": "[encoded data removed]",
      "text/plain": [
       "<Figure size 1000x600 with 1 Axes>"
      ]
     },
     "metadata": {},
     "output_type": "display_data"
    }
   ],
   "source": [
    "\n",
    "hour_last72=hour.loc[17307:,:]\n",
    "fig, ax = plt.subplots(figsize=(10, 6))\n",
    "ax.scatter(x = hour_last72['instant'], y = hour_last72['count'])\n",
    "plt.xlabel(\"Hour\")\n",
    "plt.ylabel(\"Count\")\n",
    "plt.title(\"Count by Hour - Last Three Days\")\n",
    "plt.show()"
   ]
  },
  {
   "cell_type": "markdown",
   "id": "364b8b32",
   "metadata": {
    "slideshow": {
     "slide_type": "slide"
    }
   },
   "source": [
    "- Here, we define a new variable `called hour_first48`. \n",
    "- This variable contains data related to row 0 through row 48 of the original data, corresponding roughly to the first two full days in the data."
   ]
  },
  {
   "cell_type": "markdown",
   "id": "3b2f8712",
   "metadata": {
    "slideshow": {
     "slide_type": "slide"
    }
   },
   "source": [
    "- Notice that we select this subset by writing `hour.loc[0:48,:]`. \n",
    "- This is the same `loc()` method that we’ve used before. "
   ]
  },
  {
   "cell_type": "markdown",
   "id": "d0343f84",
   "metadata": {
    "slideshow": {
     "slide_type": "slide"
    }
   },
   "source": [
    "- We use `0:48` to specify that we want the rows with indexes up to 48, but we don’t specify any columns $\\Rightarrow$ we just write a colon (`:`) where we would normally specify column names to select. \n",
    "- This is a useful shortcut: a colon alone placed there tells pandas that we want to select every column of the dataset, so we don’t need to write out each column name individually"
   ]
  },
  {
   "cell_type": "markdown",
   "id": "e017a0c0",
   "metadata": {
    "slideshow": {
     "slide_type": "slide"
    }
   },
   "source": [
    "- By plotting only two days instead of two years of data, we avoid the problem of points overlapping and hiding one another. \n",
    "- We can see every observation much more clearly. "
   ]
  },
  {
   "cell_type": "markdown",
   "id": "ac957f1f",
   "metadata": {
    "slideshow": {
     "slide_type": "slide"
    }
   },
   "source": [
    "- When you have a big dataset, it’s a good idea to do both: \n",
    "    - plot the entire dataset at once (to understand the general, overall patterns) as well as \n",
    "    - plot smaller subsets of the data (to understand individual observations and smaller-scale patterns). \n",
    "- In this case, we can see patterns within each day of the data in addition to the longer-term seasonal patterns within its years."
   ]
  },
  {
   "cell_type": "markdown",
   "id": "6ceebc31",
   "metadata": {
    "slideshow": {
     "slide_type": "slide"
    }
   },
   "source": [
    "### Testing Different Plot Types\n",
    "- We have many ways to change the appearance of a plot. \n",
    "- Our `scatter()` function contains parameters that we can adjust to get different looks:"
   ]
  },
  {
   "cell_type": "code",
   "execution_count": 17,
   "id": "07194976",
   "metadata": {
    "slideshow": {
     "slide_type": "slide"
    }
   },
   "outputs": [
    {
     "data": {
      "image/png": "[encoded data removed]",
      "text/plain": [
       "<Figure size 1000x600 with 1 Axes>"
      ]
     },
     "metadata": {},
     "output_type": "display_data"
    }
   ],
   "source": [
    "# Testing Different Plot Types\n",
    "fig, ax = plt.subplots(figsize=(10, 6))\n",
    "ax.scatter(x = hour_first48['instant'], y = hour_first48['count'],c='red',marker='+')\n",
    "plt.xlabel(\"Hour\")\n",
    "plt.ylabel(\"Count\")\n",
    "plt.title(\"Count by Hour - First Two Days\")\n",
    "plt.show()"
   ]
  },
  {
   "cell_type": "markdown",
   "id": "678b7338",
   "metadata": {
    "slideshow": {
     "slide_type": "slide"
    }
   },
   "source": [
    "- Here, we use the `c` argument to specify a color for our plot points (red). \n",
    "- We also specify a marker argument to change the marker style, or the shape of the points that are drawn. \n",
    "- By specifying `+` for our marker argument, we get plot points that look like little pluses instead of little dots. "
   ]
  },
  {
   "cell_type": "markdown",
   "id": "b2e1f75a",
   "metadata": {
    "slideshow": {
     "slide_type": "slide"
    }
   },
   "source": [
    "- Scatterplots are not the only type of plot we can draw. \n",
    "- Let’s try a line plot:"
   ]
  },
  {
   "cell_type": "code",
   "execution_count": 18,
   "id": "52637015",
   "metadata": {
    "slideshow": {
     "slide_type": "slide"
    }
   },
   "outputs": [
    {
     "data": {
      "image/png": "[encoded data removed]",
      "text/plain": [
       "<Figure size 1000x600 with 1 Axes>"
      ]
     },
     "metadata": {},
     "output_type": "display_data"
    }
   ],
   "source": [
    "fig, ax = plt.subplots(figsize=(10, 6))\n",
    "#ax.plot() draws the plot\n",
    "ax.plot(hour_first48['instant'], hour_first48['casual'],c='red',label='casual',linestyle='-')\n",
    "ax.plot(hour_first48['instant'],\\\n",
    "hour_first48['registered'],c='blue',label='registered',linestyle='--')\n",
    "ax.legend()\n",
    "plt.show()"
   ]
  },
  {
   "cell_type": "markdown",
   "id": "a12fbf63",
   "metadata": {
    "slideshow": {
     "slide_type": "slide"
    }
   },
   "source": [
    "- In this case, we use `ax.plot()` instead of `ax.scatter()` to draw the plot. \n",
    "- The `ax.plot()` method allows us to draw a line plot. \n",
    "- Here, we call `ax.plot()` twice to draw two lines on a single plot. "
   ]
  },
  {
   "cell_type": "markdown",
   "id": "925ac942",
   "metadata": {
    "slideshow": {
     "slide_type": "slide"
    }
   },
   "source": [
    "- This plot shows that the number of casual riders is almost always lower than the number of registered riders.\n",
    "- The plot’s legend indicates different colors for casual and registered users as well as the different line styles (solid for casual riders, dashed for registered riders). "
   ]
  },
  {
   "cell_type": "markdown",
   "id": "fc24f49c",
   "metadata": {
    "slideshow": {
     "slide_type": "slide"
    }
   },
   "source": [
    "We can also try a different kind of plot:"
   ]
  },
  {
   "cell_type": "code",
   "execution_count": 19,
   "id": "95d64322",
   "metadata": {
    "slideshow": {
     "slide_type": "slide"
    }
   },
   "outputs": [
    {
     "data": {
      "image/png": "[encoded data removed]",
      "text/plain": [
       "<Figure size 1000x600 with 1 Axes>"
      ]
     },
     "metadata": {},
     "output_type": "display_data"
    }
   ],
   "source": [
    "# Different kind of plot - Box Plot\n",
    "import seaborn as sns\n",
    "fig, ax = plt.subplots(figsize=(10, 6))\n",
    "sns.boxplot(x='hr', y='registered', data=hour)\n",
    "plt.xlabel(\"Hour\")\n",
    "plt.ylabel(\"Count\")\n",
    "plt.title(\"Counts by Hour\")\n",
    "plt.show()"
   ]
  },
  {
   "cell_type": "markdown",
   "id": "db527b22",
   "metadata": {
    "slideshow": {
     "slide_type": "slide"
    }
   },
   "source": [
    "- This time, we import a package called `seaborn`. \n",
    "- This package is based on _Matplotlib_, so it includes all the capabilities of Matplotlib, plus more features that help create beautiful, informative plots quickly. \n",
    "- We use `seaborn`’s `boxplot()` method to create a new kind of plot: **a box plot**. "
   ]
  },
  {
   "cell_type": "markdown",
   "id": "9ee61b94",
   "metadata": {
    "slideshow": {
     "slide_type": "slide"
    }
   },
   "source": [
    "- You can see 24 vertical box plots, drawn parallel to one another $\\Rightarrow$ each one representing information about a particular hour of the day. \n",
    "- A box plot is a simple kind of plot, but one that gives a great deal of information. "
   ]
  },
  {
   "cell_type": "markdown",
   "id": "663fd3b9",
   "metadata": {
    "slideshow": {
     "slide_type": "slide"
    }
   },
   "source": [
    "- In a box plot, the upper and lower horizontal boundaries of each rectangle represent the 75th and 25th percentiles of the plotted data, respectively. \n",
    "- The horizontal line inside the rectangle represents the median (or 50th percentile). "
   ]
  },
  {
   "cell_type": "markdown",
   "id": "f7298934",
   "metadata": {
    "slideshow": {
     "slide_type": "slide"
    }
   },
   "source": [
    "- The vertical lines extending from the top and bottom of each rectangle represent the full range of all observations that are not considered outliers. \n",
    "- The individually drawn points beyond the ranges of the vertical lines are regarded as outliers."
   ]
  },
  {
   "cell_type": "markdown",
   "id": "d8bfba4e",
   "metadata": {
    "slideshow": {
     "slide_type": "slide"
    }
   },
   "source": [
    "- Seeing the box plots together enables you to compare ridership at different times of day. \n",
    "- For example, the median ridership during hour 5 (around 5 AM) is quite low, but the median ridership at hour 6 (around 6 AM) is much higher. "
   ]
  },
  {
   "cell_type": "markdown",
   "id": "bed8be68",
   "metadata": {
    "slideshow": {
     "slide_type": "slide"
    }
   },
   "source": [
    "- At hour 7 (around 7 AM), the median ridership is higher still. \n",
    "- High ridership occurs again around 5 PM and 6 PM; maybe these peaks indicate that many of your customers use your bikes to commute to and from work.\n"
   ]
  },
  {
   "cell_type": "markdown",
   "id": "0768f222",
   "metadata": {
    "slideshow": {
     "slide_type": "slide"
    }
   },
   "source": [
    "- As you might expect, we can draw many more types of plots. \n",
    "- Another useful one is a _histogram_, which you can create as follows:"
   ]
  },
  {
   "cell_type": "code",
   "execution_count": 20,
   "id": "762b555a",
   "metadata": {
    "slideshow": {
     "slide_type": "slide"
    }
   },
   "outputs": [
    {
     "data": {
      "image/png": "[encoded data removed]",
      "text/plain": [
       "<Figure size 1000x600 with 1 Axes>"
      ]
     },
     "metadata": {},
     "output_type": "display_data"
    }
   ],
   "source": [
    "# Different kind of plot - Histogram\n",
    "fig, ax = plt.subplots(figsize=(10, 6))\n",
    "ax.hist(hour['count'],bins=80)\n",
    "plt.xlabel(\"Ridership\")\n",
    "plt.ylabel(\"Frequency\")\n",
    "plt.title(\"Ridership Histogram\")\n",
    "plt.show()"
   ]
  },
  {
   "cell_type": "markdown",
   "id": "e95a0828",
   "metadata": {
    "slideshow": {
     "slide_type": "slide"
    }
   },
   "source": [
    "- In a histogram, the height of every bar represents frequency. \n",
    "- In this case, our histogram shows the frequencies of every ridership count. \n",
    "- For example, if you look at the x-axis around 800, you’ll see bars that have a height close to 0. \n"
   ]
  },
  {
   "cell_type": "markdown",
   "id": "e63b4dc0",
   "metadata": {
    "slideshow": {
     "slide_type": "slide"
    }
   },
   "source": [
    "- This means that very few hours in our dataset had around 800 riders. \n",
    "- By contrast, at about 200 on the x-axis, you see higher bars, with height closer to 500. \n"
   ]
  },
  {
   "cell_type": "markdown",
   "id": "232e9747",
   "metadata": {
    "slideshow": {
     "slide_type": "slide"
    }
   },
   "source": [
    "- This indicates that for close to 500 individual hours in our data, ridership was close to 200. \n",
    "- The pattern we see in this histogram is a common one for businesses: many hours have few customers, and few hours have many customers."
   ]
  },
  {
   "cell_type": "markdown",
   "id": "77ea564a",
   "metadata": {
    "slideshow": {
     "slide_type": "slide"
    }
   },
   "source": [
    "- You could use this kind of histogram to think about the capacity of your company. \n",
    "- For example, maybe your company has 1,000 bicycles available to rent today. \n"
   ]
  },
  {
   "cell_type": "markdown",
   "id": "1a987df0",
   "metadata": {
    "slideshow": {
     "slide_type": "slide"
    }
   },
   "source": [
    "- You think that it might be good to save money by selling 200 of your bicycles—that way, you’ll earn some extra cash and won’t have to worry about maintenance and storage of superfluous bikes. \n",
    "- This would leave you with 800 bicycles available to rent. \n"
   ]
  },
  {
   "cell_type": "markdown",
   "id": "f352fc45",
   "metadata": {
    "slideshow": {
     "slide_type": "slide"
    }
   },
   "source": [
    "- By looking at the histogram, you can see exactly how much you would expect that change to impact your company: since only a small fraction of hours have demand higher than 800, this should have a relatively small impact on your capacity. \n",
    "- You could look at the histogram to decide exactly how many of your bicycles you feel comfortable selling."
   ]
  },
  {
   "cell_type": "markdown",
   "id": "8da16713",
   "metadata": {
    "slideshow": {
     "slide_type": "slide"
    }
   },
   "source": [
    "Another type of plot, a _pair plot_, draws every possible scatterplot for every possible pair of variables in your data:"
   ]
  },
  {
   "cell_type": "code",
   "execution_count": 21,
   "id": "6300221e",
   "metadata": {
    "slideshow": {
     "slide_type": "slide"
    }
   },
   "outputs": [
    {
     "data": {
      "image/png": "[encoded data removed]",
      "text/plain": [
       "<Figure size 750x750 with 9 Axes>"
      ]
     },
     "metadata": {},
     "output_type": "display_data"
    }
   ],
   "source": [
    "# Pair Plot - \"draws every possible scatterplot for every possible pair of variables in the data\"\n",
    "thevariables=['hr','temp','windspeed']\n",
    "hour_first100=hour.loc[0:100,thevariables]\n",
    "sns.pairplot(hour_first100, corner=True)\n",
    "plt.show()"
   ]
  },
  {
   "cell_type": "markdown",
   "id": "c6090e2b",
   "metadata": {
    "slideshow": {
     "slide_type": "slide"
    }
   },
   "source": [
    "- Here, we create a `thevariables` variable, which is a list of three variables we’ll plot. \n",
    "- We also create `hour_first100`, which is a subset of our full data containing only the rows with index 100 or less in the hour dataset. \n",
    "- Again, the `seaborn` package helps us by providing the `pairplot()` method that we can call to create our plot.\n",
    "- The result is a collection of plots, including both scatterplots and histograms."
   ]
  },
  {
   "cell_type": "markdown",
   "id": "12203428",
   "metadata": {
    "slideshow": {
     "slide_type": "slide"
    }
   },
   "source": [
    "- The pair plot shows scatterplots for every possible combination of variables in the subset of the data we selected, as well as histograms for the individual variables we selected. \n",
    "- A lot of data is plotted here, but the scatterplots don’t show much apparent relationship among the variables; these relationships appear to be essentially random."
   ]
  },
  {
   "cell_type": "markdown",
   "id": "d549f9be",
   "metadata": {
    "slideshow": {
     "slide_type": "slide"
    }
   },
   "source": [
    "- Sometimes when we draw pair plots, we see more than just randomness. \n",
    "- Instead, we can see clear relationships among variables. "
   ]
  },
  {
   "cell_type": "markdown",
   "id": "0c57a19e",
   "metadata": {
    "slideshow": {
     "slide_type": "slide"
    }
   },
   "source": [
    "- For example, if we had a measurement of snowfall in our data, we would see that as temperature goes up, snowfall levels go down, and vice versa. \n",
    "- This type of clear relationship between variables is called _correlation_."
   ]
  },
  {
   "cell_type": "markdown",
   "id": "1cb2a07c",
   "metadata": {
    "slideshow": {
     "slide_type": "slide"
    }
   },
   "source": [
    "## Exploring Correlations\n",
    "- Two variables are correlated if a change in one variable tends to occur together with a change in the other variable. \n",
    "- We say that two variables are positively correlated if they change together: one variable tends to go up when the other goes up, and one variable tends to go down when the other goes down."
   ]
  },
  {
   "cell_type": "markdown",
   "id": "38280c74",
   "metadata": {
    "slideshow": {
     "slide_type": "slide"
    }
   },
   "source": [
    "Berikan contoh korelasi yang positif."
   ]
  },
  {
   "cell_type": "markdown",
   "id": "eef1805a",
   "metadata": {
    "slideshow": {
     "slide_type": "slide"
    }
   },
   "source": [
    "- We can also talk about negative correlations: two variables are negatively correlated if one tends to go up when the other goes down, or if one tends to go down when the other goes up. \n",
    "- Negative correlations are also common in the world. "
   ]
  },
  {
   "cell_type": "markdown",
   "id": "9f771fdc",
   "metadata": {
    "slideshow": {
     "slide_type": "slide"
    }
   },
   "source": [
    "Berikan contoh korelasi yang negatif."
   ]
  },
  {
   "cell_type": "markdown",
   "id": "b0169c31",
   "metadata": {
    "slideshow": {
     "slide_type": "slide"
    }
   },
   "source": [
    "- In the world of data science, it's extremely important to find and understand correlations, both positive and negative ones. \n",
    "- Your performance as CEO will improve if you can find and understand these correlations. \n",
    "- For example, you might find that the count of riders is positively correlated with the temperature. \n"
   ]
  },
  {
   "cell_type": "markdown",
   "id": "7b71ea85",
   "metadata": {
    "slideshow": {
     "slide_type": "slide"
    }
   },
   "source": [
    "- If so, this means that ridership tends to be low when temperatures are low. \n",
    "- You could even consider selling some of your bikes during seasons with low ridership to generate cash flow instead of letting many of your bikes sit idle. \n",
    "- Exactly what you choose to do will depend on many other details of your situation, but understanding the data on a deep level will help you make the best possible business decisions."
   ]
  },
  {
   "cell_type": "markdown",
   "id": "8a431ece",
   "metadata": {
    "slideshow": {
     "slide_type": "slide"
    }
   },
   "source": [
    "### Calculating Correlations\n",
    "We can calculate correlations in Python:"
   ]
  },
  {
   "cell_type": "code",
   "execution_count": 22,
   "id": "bcca09c1",
   "metadata": {
    "slideshow": {
     "slide_type": "slide"
    }
   },
   "outputs": [
    {
     "name": "stdout",
     "output_type": "stream",
     "text": [
      "0.5066177004294637\n",
      "-0.06988139105119355\n"
     ]
    }
   ],
   "source": [
    "# Calculating Correlations\n",
    "print(hour['casual'].corr(hour['registered']))\n",
    "print(hour['temp'].corr(hour['hum']))\n",
    "# corr() method calculates a number called the correlation coefficient\n",
    "# the correlation coefficient is a number between -1 and 1, often named r\n",
    "# variables are 'uncorrelated' if the correlation coefficient is 0 or very close to 0"
   ]
  },
  {
   "cell_type": "markdown",
   "id": "45c42c0b",
   "metadata": {
    "slideshow": {
     "slide_type": "slide"
    }
   },
   "source": [
    "- Here, we use the `corr()` method, yet another capability provided by `pandas`. \n",
    "- The `corr()` method calculates a number called the _correlation coefficient_. \n"
   ]
  },
  {
   "cell_type": "markdown",
   "id": "c4c7ef27",
   "metadata": {
    "slideshow": {
     "slide_type": "slide"
    }
   },
   "source": [
    "- We can calculate many types of correlation coefficients, but by default, `corr()` calculates the _Pearson correlation coefficient_. \n",
    "- This is the most commonly used correlation coefficient."
   ]
  },
  {
   "cell_type": "markdown",
   "id": "e7d373e4",
   "metadata": {
    "slideshow": {
     "slide_type": "slide"
    }
   },
   "source": [
    "- The Pearson correlation coefficient is a number that’s always between $-1$ and $1$, and it’s often named with the variable $r$. \n",
    "- It’s meant to describe the relationship between two variables; its sign describes the type of correlation, and its size describes the strength of the correlation. "
   ]
  },
  {
   "cell_type": "markdown",
   "id": "c6b378c1",
   "metadata": {
    "slideshow": {
     "slide_type": "slide"
    }
   },
   "source": [
    "- If the correlation coefficient $r$ is a positive number, our two variables are positively correlated, and if $r$ is a negative number, they’re negatively correlated. \n",
    "- If the correlation coefficient is $0$, or very close to $0$, we say that the variables are uncorrelated."
   ]
  },
  {
   "cell_type": "markdown",
   "id": "1dff4977",
   "metadata": {
    "slideshow": {
     "slide_type": "slide"
    }
   },
   "source": [
    "- In this case, the first line of this snippet calculates the correlation coefficient describing the relationship between the casual and registered variables in our data. \n",
    "- For these variables, $r$ is about `0.51`, a positive number that indicates a positive correlation."
   ]
  },
  {
   "cell_type": "markdown",
   "id": "68846906",
   "metadata": {
    "slideshow": {
     "slide_type": "slide"
    }
   },
   "source": [
    "### Understanding Strong vs. Weak Correlations\n",
    "- In addition to noticing whether correlation coefficients are positive, negative, or $0$, we pay attention to their exact magnitude, or size. \n",
    "- If a correlation coefficient is large (far from $0$ and close to either $1$ or $-1$), we often say that the correlation is strong. "
   ]
  },
  {
   "cell_type": "markdown",
   "id": "364cbd34",
   "metadata": {
    "slideshow": {
     "slide_type": "slide"
    }
   },
   "source": [
    "<center>\n",
    "   <img src=\"images/strong-corr.png\" width=\"1000\">\n",
    "</center>"
   ]
  },
  {
   "cell_type": "markdown",
   "id": "45e05e69",
   "metadata": {
    "slideshow": {
     "slide_type": "slide"
    }
   },
   "source": [
    "- One important thing to remember when you look at correlations is a famous saying: \n",
    "> _Correlation does not imply causation._\n",
    "- When we observe strong correlations, all we can be certain of is that two variables tend to change together; we can’t be certain that one causes the other."
   ]
  },
  {
   "cell_type": "markdown",
   "id": "96b40126",
   "metadata": {
    "slideshow": {
     "slide_type": "slide"
    }
   },
   "source": [
    "- For example, suppose we study Silicon Valley startups and find that their monthly revenues are correlated with the number of Ping-Pong tables they purchase. \n",
    "- We may hastily conclude from this correlation that Ping-Pong tables are causing revenue to increase; maybe the relaxation and camaraderie that they facilitate leads to higher productivity, or maybe the fun atmosphere they create leads to better retention and hiring success."
   ]
  },
  {
   "cell_type": "markdown",
   "id": "4947645c",
   "metadata": {
    "slideshow": {
     "slide_type": "slide"
    }
   },
   "source": [
    "- On the other hand, these ideas may be completely mistaken, and maybe the causation flows in the opposite direction; companies that have success (totally independent of their Ping-Pong tables) have higher revenues, and since their budget has suddenly increased, they use some of their new extra money for a fun purchase like a Ping-Pong table. \n",
    "- In that case, revenue would be causing Ping-Pong table purchases, not the other way around."
   ]
  },
  {
   "cell_type": "markdown",
   "id": "94720b2b",
   "metadata": {
    "slideshow": {
     "slide_type": "slide"
    }
   },
   "source": [
    "- Finally, the correlation could be mere coincidence. \n",
    "- Maybe Ping-Pong tables don’t lead to higher revenues, and revenues don’t lead to more Ping-Pong tables, but instead we’ve observed a _spurious correlation_: a correlation that occurs only by coincidence and does not indicate any causation or special relationship. "
   ]
  },
  {
   "cell_type": "markdown",
   "id": "3ff3cd25",
   "metadata": {
    "slideshow": {
     "slide_type": "slide"
    }
   },
   "source": [
    "A correlation could also be due to an omitted variable, something we haven’t observed but is independently causing revenue increases and Ping-Pong table purchases simultaneously."
   ]
  },
  {
   "cell_type": "markdown",
   "id": "0da13d7b",
   "metadata": {
    "slideshow": {
     "slide_type": "slide"
    }
   },
   "source": [
    "- Discovering and understanding correlation coefficients can help you in your CEO duties, especially when you find surprising correlations. \n",
    "- For example, you may find a strong, positive correlation between the size of groups that rent bicycles together and their level of customer satisfaction after the rental. "
   ]
  },
  {
   "cell_type": "markdown",
   "id": "0a049574",
   "metadata": {
    "slideshow": {
     "slide_type": "slide"
    }
   },
   "source": [
    "\n",
    "- Maybe this can give you some ideas about encouraging people to rent bikes with their friends as a chance to get more satisfied customers. \n",
    "- Finding correlations, and understanding the magnitude of correlations and what that tells you about predictability, can be valuable in business."
   ]
  },
  {
   "cell_type": "markdown",
   "id": "5c66b449",
   "metadata": {
    "slideshow": {
     "slide_type": "slide"
    }
   },
   "source": [
    "### Finding Correlations Between Variables\n",
    "- We can do more than calculate individual correlations between pairs of variables. \n",
    "- We can go further by creating a correlation matrix, which is a matrix (or rectangular array) of numbers, each of whose elements is the correlation coefficient measuring the relationship between two particular variables. \n",
    "- A correlation matrix will show the relationships among all of our variables:"
   ]
  },
  {
   "cell_type": "code",
   "execution_count": 23,
   "id": "598855da",
   "metadata": {
    "slideshow": {
     "slide_type": "slide"
    }
   },
   "outputs": [
    {
     "name": "stdout",
     "output_type": "stream",
     "text": [
      "                 hr      temp  windspeed\n",
      "hr         1.000000  0.137603   0.137252\n",
      "temp       0.137603  1.000000  -0.023125\n",
      "windspeed  0.137252 -0.023125   1.000000\n"
     ]
    }
   ],
   "source": [
    "# \"correlation matrix: a matrix with each of whose elements is the correlation coefficient measuring the relationship between two particular variables”\n",
    "thenames=['hr','temp','windspeed']\n",
    "cor_matrix = hour[thenames].corr()\n",
    "print(cor_matrix)\n",
    "# corr() creates a correlation matrix\n",
    "# every entry is a cc"
   ]
  },
  {
   "cell_type": "markdown",
   "id": "84667115",
   "metadata": {
    "slideshow": {
     "slide_type": "slide"
    }
   },
   "source": [
    "- Here, we use the same `corr()` method that we’ve used before. \n",
    "- When we use `corr()` without any arguments inside the parentheses, it creates a correlation matrix for all the variables in a dataset. "
   ]
  },
  {
   "cell_type": "markdown",
   "id": "7daf7738",
   "metadata": {
    "slideshow": {
     "slide_type": "slide"
    }
   },
   "source": [
    "In this case, we create a smaller correlation matrix that shows correlations among just three selected variables."
   ]
  },
  {
   "cell_type": "markdown",
   "id": "47dad13d",
   "metadata": {
    "slideshow": {
     "slide_type": "slide"
    }
   },
   "source": [
    "- Here, we have a $3 \\times 3$ matrix. \n",
    "- Every entry in this matrix is a correlation coefficient. \n",
    "- For example, in the second row, third column, you can see that the correlation between windspeed and temp is about $r = -0.023$. \n",
    "- Technically, this is a negative correlation, though it’s so close to $0$ that we would typically describe the two variables as uncorrelated."
   ]
  },
  {
   "cell_type": "markdown",
   "id": "9b354de7",
   "metadata": {
    "slideshow": {
     "slide_type": "slide"
    }
   },
   "source": [
    "## Creating Heat Maps\n",
    "After creating a correlation matrix, we can create a plot of all these correlations to make the matrix more easily readable:"
   ]
  },
  {
   "cell_type": "code",
   "execution_count": 24,
   "id": "fe862da2",
   "metadata": {
    "slideshow": {
     "slide_type": "slide"
    }
   },
   "outputs": [
    {
     "data": {
      "image/png": "[encoded data removed]",
      "text/plain": [
       "<Figure size 1400x1000 with 2 Axes>"
      ]
     },
     "metadata": {},
     "output_type": "display_data"
    }
   ],
   "source": [
    "plt.figure(figsize=(14,10))\n",
    "corr = hour[thenames].corr()\n",
    "sns.heatmap(corr, annot=True,cmap='binary',\n",
    "        fmt=\".3f\",\n",
    "        xticklabels=thenames,\n",
    "        yticklabels=thenames)\n",
    "plt.show()\n",
    "# “the color or darkness of a cell indicates the value of the number in that cell”"
   ]
  },
  {
   "cell_type": "markdown",
   "id": "773dae7e",
   "metadata": {
    "slideshow": {
     "slide_type": "slide"
    }
   },
   "source": [
    "- Here, we create a heat map. \n",
    "- In this type of plot, the color or darkness of a cell indicates the value of the number in that cell. \n",
    "- The heat map shows measurements of correlations between variables."
   ]
  },
  {
   "cell_type": "markdown",
   "id": "453f5464",
   "metadata": {
    "slideshow": {
     "slide_type": "slide"
    }
   },
   "source": [
    "- This heat map shows a collection of nine rectangles. \n",
    "- As the legend on the right indicates, a darker fill in a rectangle indicates that a particular correlation is higher, and a lighter fill indicates that a particular correlation is lower. "
   ]
  },
  {
   "cell_type": "markdown",
   "id": "5289556e",
   "metadata": {
    "slideshow": {
     "slide_type": "slide"
    }
   },
   "source": [
    "A heat map of a correlation matrix can provide an even quicker way to check for patterns and relationships among variables, since strong relationships will quickly catch the eye."
   ]
  },
  {
   "cell_type": "markdown",
   "id": "07b8e079",
   "metadata": {
    "slideshow": {
     "slide_type": "slide"
    }
   },
   "source": [
    "- If you prefer a color plot instead of a grayscale one, you can change the `cmap='binary'` parameter in the `sns.heatmap()` method. \n",
    "- This `cmap` parameter refers to the color map of the heat map, and by choosing a different `cmap` value, you can get different color schemes."
   ]
  },
  {
   "cell_type": "markdown",
   "id": "54b2577f",
   "metadata": {
    "slideshow": {
     "slide_type": "slide"
    }
   },
   "source": [
    "For example, if you use `cmap='coolwarm'`, you’ll see a heat map in which higher values are represented by reddish colors and lower values are represented by bluish colors."
   ]
  },
  {
   "cell_type": "code",
   "execution_count": 25,
   "id": "98da78bb",
   "metadata": {
    "slideshow": {
     "slide_type": "slide"
    }
   },
   "outputs": [
    {
     "data": {
      "image/png": "[encoded data removed]",
      "text/plain": [
       "<Figure size 1400x1000 with 2 Axes>"
      ]
     },
     "metadata": {},
     "output_type": "display_data"
    }
   ],
   "source": [
    "# same heatmap as previous, experimenting with different cmap option\n",
    "plt.figure(figsize=(14,10))\n",
    "corr = hour[thenames].corr()\n",
    "sns.heatmap(corr, annot=True,cmap='coolwarm',\n",
    "        fmt=\".3f\",\n",
    "        xticklabels=thenames,\n",
    "        yticklabels=thenames)\n",
    "plt.show()"
   ]
  },
  {
   "cell_type": "markdown",
   "id": "bf967b1e",
   "metadata": {
    "slideshow": {
     "slide_type": "slide"
    }
   },
   "source": [
    "- Heat maps can be drawn for variables other than correlation matrices. \n",
    "- For example, we can draw a heat map showing the number of riders at each hour throughout a week:"
   ]
  },
  {
   "cell_type": "code",
   "execution_count": 26,
   "id": "69996c49",
   "metadata": {
    "slideshow": {
     "slide_type": "slide"
    }
   },
   "outputs": [
    {
     "data": {
      "image/png": "[encoded data removed]",
      "text/plain": [
       "<Figure size 2000x1000 with 2 Axes>"
      ]
     },
     "metadata": {},
     "output_type": "display_data"
    }
   ],
   "source": [
    "# “heat map showing the number of riders at each hour throughout a week”\n",
    "df_hm =hour.pivot_table(index = 'hr',columns ='weekday',values ='count')\n",
    "# Draw a heatmap\n",
    "plt.figure(figsize = (20,10)) # To resize the plot\n",
    "sns.heatmap(df_hm,  fmt=\"d\", cmap='binary',linewidths=.5, vmin = 0)\n",
    "plt.show()"
   ]
  },
  {
   "cell_type": "markdown",
   "id": "735df9d4",
   "metadata": {
    "slideshow": {
     "slide_type": "slide"
    }
   },
   "source": [
    "- To create this plot, we have to create a pivot table, a table of grouped values. \n",
    "- If you’ve spent a lot of time working with Excel or other spreadsheet programs, you’ve likely encountered pivot tables before. \n",
    "- Here, our pivot table has grouped values from our full dataset based on their day of the week and hour of the day."
   ]
  },
  {
   "cell_type": "markdown",
   "id": "0947b336",
   "metadata": {
    "slideshow": {
     "slide_type": "slide"
    }
   },
   "source": [
    "- We have the average ridership for each hour (0 through 23) of each day (Sunday through Saturday). \n",
    "- After creating a pivot table with data grouped in this way, we can use the same `heatmap()` method to create the heat map."
   ]
  },
  {
   "cell_type": "markdown",
   "id": "93f4d0ae",
   "metadata": {
    "slideshow": {
     "slide_type": "slide"
    }
   },
   "source": [
    "- This heat map contains darker rectangles for hours that had more riders and lighter rectangles for hours that had fewer riders. \n",
    "- We can see commuters who spike in activity around 8 AM and 5 PM. We can also see weekend outings on Saturday and Sunday afternoons.\n",
    "\n"
   ]
  },
  {
   "cell_type": "markdown",
   "id": "6aa2e8e1",
   "metadata": {
    "slideshow": {
     "slide_type": "slide"
    }
   },
   "source": [
    "- From a business perspective, this heat map could give us any number of business ideas. \n",
    "- For instance, seeing the spike in ridership around 8 AM on weekdays could give you an idea for increasing your revenue. "
   ]
  },
  {
   "cell_type": "markdown",
   "id": "98e02460",
   "metadata": {
    "slideshow": {
     "slide_type": "slide"
    }
   },
   "source": [
    "- Just as we imagined providing discounts during times of low activity, we might also consider the mirror image strategy: surge pricing (temporarily higher prices) during especially active times.\n",
    "- Other transportation companies like Uber, Lyft, and Grab use this surge pricing strategy, not only to increase revenue but also to ensure high availability of their products."
   ]
  },
  {
   "cell_type": "markdown",
   "id": "d19e3259",
   "metadata": {
    "slideshow": {
     "slide_type": "slide"
    }
   },
   "source": [
    "## Exploring Further"
   ]
  },
  {
   "cell_type": "markdown",
   "id": "99c02925",
   "metadata": {
    "slideshow": {
     "slide_type": "slide"
    }
   },
   "source": [
    "- So far, we’ve looked at only one dataset, and we’ve done only a few of the infinite explorations that are possible with it. \n",
    "- As you continue from your first morning as CEO to your first afternoon, then your second day, and further on, you will need to make many decisions about your business and the way it operates. \n"
   ]
  },
  {
   "cell_type": "markdown",
   "id": "3afc7590",
   "metadata": {
    "slideshow": {
     "slide_type": "slide"
    }
   },
   "source": [
    "- The exploration that we’ve done can be applied to any other business question you ever encounter. \n",
    "- For example, you might consider bundling bike rentals with refreshing drinks and earning extra revenue that way (not to mention keeping your riders healthier and safer). \n",
    "- Analyzing data related to your customers, their riding patterns, and how thirsty they get during bike rides could help you figure out whether this strategy is a good idea."
   ]
  },
  {
   "cell_type": "markdown",
   "id": "4e3ca98a",
   "metadata": {
    "slideshow": {
     "slide_type": "slide"
    }
   },
   "source": [
    "- Other analyses could be related to the repairs your bikes need. \n",
    "- How often are your bikes being repaired, and how much do repairs cost? \n",
    "- You could check for the times of repairs and make sure they’re not being done during peak hours. \n"
   ]
  },
  {
   "cell_type": "markdown",
   "id": "ec6ac4c3",
   "metadata": {
    "slideshow": {
     "slide_type": "slide"
    }
   },
   "source": [
    "- You could check the costs of repairs of various types of bikes. \n",
    "- You could check a histogram of the prices of repairs and check whether any outliers are increasing your costs too much. \n",
    "- These explorations would help you better understand your business and help you get ideas for running it better."
   ]
  },
  {
   "cell_type": "markdown",
   "id": "f2d84892",
   "metadata": {
    "slideshow": {
     "slide_type": "slide"
    }
   },
   "source": [
    "- So far, our analyses have not been extremely sophisticated; mostly we’ve calculated only summary statistics and drawn plots. \n",
    "- But these simple calculations and plots, when combined with common sense, can be valuable as a first step in making business decisions. "
   ]
  },
  {
   "cell_type": "markdown",
   "id": "1cb35c08",
   "metadata": {
    "slideshow": {
     "slide_type": "slide"
    }
   },
   "source": [
    "- Some CEOs don’t look at data enough, and others want to look at data but depend on staff to provide reports to them, and those reports may be slow or imperfect. \n",
    "- A CEO who can confidently check data related to their company is a CEO who can be effective. "
   ]
  },
  {
   "cell_type": "markdown",
   "id": "cc13d985",
   "metadata": {
    "slideshow": {
     "slide_type": "slide"
    }
   },
   "source": [
    "- CEOs can become good at data, and this can combine with their business knowledge to make them even better at their jobs. \n",
    "- Similarly, data scientists can become good at business, and when their data skills are combined with business acumen, they can really become a force to be reckoned with."
   ]
  },
  {
   "cell_type": "markdown",
   "id": "1323bf6a",
   "metadata": {
    "slideshow": {
     "slide_type": "slide"
    }
   },
   "source": [
    "## Kesimpulan\n",
    "- Dalam contoh ini, we started with a simple business scenario: becoming a CEO and making decisions related to running a business better. \n",
    "- We went over some ideas for what a CEO needs to do and how exploratory data analysis can be helpful. \n",
    "- We covered how to read data into Python, calculate summary statistics, draw plots, and interpret results in a business context. "
   ]
  },
  {
   "cell_type": "markdown",
   "id": "5291da93",
   "metadata": {
    "slideshow": {
     "slide_type": "slide"
    }
   },
   "source": [
    "Selanjutnya, we’ll go over linear regression, a more sophisticated method that can be used not only for exploration but also for forecasting."
   ]
  },
  {
   "cell_type": "markdown",
   "id": "0bcd219c",
   "metadata": {
    "slideshow": {
     "slide_type": "slide"
    }
   },
   "source": [
    "<center>\n",
    "        <h1>The End</h1>\n",
    "</center>"
   ]
  }
 ],
 "metadata": {
  "celltoolbar": "Slideshow",
  "kernelspec": {
   "display_name": "Python 3 (ipykernel)",
   "language": "python",
   "name": "python3"
  },
  "language_info": {
   "codemirror_mode": {
    "name": "ipython",
    "version": 3
   },
   "file_extension": ".py",
   "mimetype": "text/x-python",
   "name": "python",
   "nbconvert_exporter": "python",
   "pygments_lexer": "ipython3",
   "version": "3.10.17"
  },
  "rise": {
   "enable_chalkboard": true
  }
 },
 "nbformat": 4,
 "nbformat_minor": 5
}
