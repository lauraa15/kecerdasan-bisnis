{
 "cells": [
  {
   "cell_type": "markdown",
   "id": "70d2e3c1",
   "metadata": {
    "slideshow": {
     "slide_type": "slide"
    }
   },
   "source": [
    "# Importing, Summarizing, and Visualizing Data\n",
    "**Referensi**     \n",
    "Kroese D.P., Botev Z.I., Taimre T., and Vaisman R. (2020) _Data Science and Machine Learning: Mathematical and Statistical Methods_. CRC Press\n"
   ]
  },
  {
   "cell_type": "markdown",
   "id": "18fac63f",
   "metadata": {
    "slideshow": {
     "slide_type": "slide"
    }
   },
   "source": [
    "## 1.1 Introduction"
   ]
  },
  {
   "cell_type": "markdown",
   "id": "1c77a568",
   "metadata": {
    "slideshow": {
     "slide_type": "slide"
    }
   },
   "source": [
    "Coba Anda import package `pandas` sebagai `pd`."
   ]
  },
  {
   "cell_type": "code",
   "execution_count": 1,
   "id": "be2ed2ee",
   "metadata": {
    "slideshow": {
     "slide_type": "slide"
    }
   },
   "outputs": [],
   "source": [
    "####################\n",
    "# Write Your Code \n",
    "####################\n",
    "import pandas as pd"
   ]
  },
  {
   "cell_type": "markdown",
   "id": "75af41be",
   "metadata": {
    "slideshow": {
     "slide_type": "slide"
    }
   },
   "source": [
    "Bacalah dataset `abalone.data` dengan `read_csv`"
   ]
  },
  {
   "cell_type": "code",
   "execution_count": 2,
   "id": "4e432e56",
   "metadata": {
    "slideshow": {
     "slide_type": "slide"
    }
   },
   "outputs": [],
   "source": [
    "####################\n",
    "# Write Your Code \n",
    "####################\n",
    "abalone = pd.read_csv('abalone.data', header=None)"
   ]
  },
  {
   "cell_type": "markdown",
   "id": "62b50a44",
   "metadata": {
    "slideshow": {
     "slide_type": "slide"
    }
   },
   "source": [
    "Bacalah dataset iris dalam bentuk file `csv` dari url link: `https://vincentarelbundock.github.io/Rdatasets/csv/` "
   ]
  },
  {
   "cell_type": "code",
   "execution_count": 3,
   "id": "5e89eb5e",
   "metadata": {
    "slideshow": {
     "slide_type": "slide"
    }
   },
   "outputs": [],
   "source": [
    "####################\n",
    "# Write Your Code \n",
    "####################\n",
    "urlprefix = 'https://vincentarelbundock.github.io/Rdatasets/csv/'\n",
    "dataname = 'datasets/iris.csv'\n",
    "iris = pd.read_csv(urlprefix+dataname)\n"
   ]
  },
  {
   "cell_type": "markdown",
   "id": "5f9a9d93",
   "metadata": {
    "slideshow": {
     "slide_type": "slide"
    }
   },
   "source": [
    "Tampilkan 5 baris pertama dari `iris`."
   ]
  },
  {
   "cell_type": "code",
   "execution_count": 4,
   "id": "afae2b42",
   "metadata": {
    "slideshow": {
     "slide_type": "slide"
    }
   },
   "outputs": [
    {
     "data": {
      "text/html": [
       "<div>\n",
       "<style scoped>\n",
       "    .dataframe tbody tr th:only-of-type {\n",
       "        vertical-align: middle;\n",
       "    }\n",
       "\n",
       "    .dataframe tbody tr th {\n",
       "        vertical-align: top;\n",
       "    }\n",
       "\n",
       "    .dataframe thead th {\n",
       "        text-align: right;\n",
       "    }\n",
       "</style>\n",
       "<table border=\"1\" class=\"dataframe\">\n",
       "  <thead>\n",
       "    <tr style=\"text-align: right;\">\n",
       "      <th></th>\n",
       "      <th>rownames</th>\n",
       "      <th>Sepal.Length</th>\n",
       "      <th>Sepal.Width</th>\n",
       "      <th>Petal.Length</th>\n",
       "      <th>Petal.Width</th>\n",
       "      <th>Species</th>\n",
       "    </tr>\n",
       "  </thead>\n",
       "  <tbody>\n",
       "    <tr>\n",
       "      <th>0</th>\n",
       "      <td>1</td>\n",
       "      <td>5.1</td>\n",
       "      <td>3.5</td>\n",
       "      <td>1.4</td>\n",
       "      <td>0.2</td>\n",
       "      <td>setosa</td>\n",
       "    </tr>\n",
       "    <tr>\n",
       "      <th>1</th>\n",
       "      <td>2</td>\n",
       "      <td>4.9</td>\n",
       "      <td>3.0</td>\n",
       "      <td>1.4</td>\n",
       "      <td>0.2</td>\n",
       "      <td>setosa</td>\n",
       "    </tr>\n",
       "    <tr>\n",
       "      <th>2</th>\n",
       "      <td>3</td>\n",
       "      <td>4.7</td>\n",
       "      <td>3.2</td>\n",
       "      <td>1.3</td>\n",
       "      <td>0.2</td>\n",
       "      <td>setosa</td>\n",
       "    </tr>\n",
       "    <tr>\n",
       "      <th>3</th>\n",
       "      <td>4</td>\n",
       "      <td>4.6</td>\n",
       "      <td>3.1</td>\n",
       "      <td>1.5</td>\n",
       "      <td>0.2</td>\n",
       "      <td>setosa</td>\n",
       "    </tr>\n",
       "    <tr>\n",
       "      <th>4</th>\n",
       "      <td>5</td>\n",
       "      <td>5.0</td>\n",
       "      <td>3.6</td>\n",
       "      <td>1.4</td>\n",
       "      <td>0.2</td>\n",
       "      <td>setosa</td>\n",
       "    </tr>\n",
       "  </tbody>\n",
       "</table>\n",
       "</div>"
      ],
      "text/plain": [
       "   rownames  Sepal.Length  Sepal.Width  Petal.Length  Petal.Width Species\n",
       "0         1           5.1          3.5           1.4          0.2  setosa\n",
       "1         2           4.9          3.0           1.4          0.2  setosa\n",
       "2         3           4.7          3.2           1.3          0.2  setosa\n",
       "3         4           4.6          3.1           1.5          0.2  setosa\n",
       "4         5           5.0          3.6           1.4          0.2  setosa"
      ]
     },
     "execution_count": 4,
     "metadata": {},
     "output_type": "execute_result"
    }
   ],
   "source": [
    "####################\n",
    "# Write Your Code \n",
    "####################\n",
    "iris.head()"
   ]
  },
  {
   "cell_type": "markdown",
   "id": "5ee4a342",
   "metadata": {
    "slideshow": {
     "slide_type": "slide"
    }
   },
   "source": [
    "Buanglah kolom pertama dari `iris`."
   ]
  },
  {
   "cell_type": "code",
   "execution_count": 5,
   "id": "1eae868a",
   "metadata": {
    "slideshow": {
     "slide_type": "slide"
    }
   },
   "outputs": [],
   "source": [
    "####################\n",
    "# Write Your Code \n",
    "####################\n",
    "iris.columns\n",
    "iris = iris.drop('rownames',axis=1)"
   ]
  },
  {
   "cell_type": "markdown",
   "id": "ce09ad2a",
   "metadata": {
    "slideshow": {
     "slide_type": "slide"
    }
   },
   "source": [
    "Mari kita cek bahwa kolom pertama memang sudah di-delete.     \n",
    "Tampilkan kembali 5 baris pertama dari `iris`."
   ]
  },
  {
   "cell_type": "code",
   "execution_count": 6,
   "id": "27970b6f",
   "metadata": {
    "slideshow": {
     "slide_type": "slide"
    }
   },
   "outputs": [
    {
     "data": {
      "text/html": [
       "<div>\n",
       "<style scoped>\n",
       "    .dataframe tbody tr th:only-of-type {\n",
       "        vertical-align: middle;\n",
       "    }\n",
       "\n",
       "    .dataframe tbody tr th {\n",
       "        vertical-align: top;\n",
       "    }\n",
       "\n",
       "    .dataframe thead th {\n",
       "        text-align: right;\n",
       "    }\n",
       "</style>\n",
       "<table border=\"1\" class=\"dataframe\">\n",
       "  <thead>\n",
       "    <tr style=\"text-align: right;\">\n",
       "      <th></th>\n",
       "      <th>Sepal.Length</th>\n",
       "      <th>Sepal.Width</th>\n",
       "      <th>Petal.Length</th>\n",
       "      <th>Petal.Width</th>\n",
       "      <th>Species</th>\n",
       "    </tr>\n",
       "  </thead>\n",
       "  <tbody>\n",
       "    <tr>\n",
       "      <th>0</th>\n",
       "      <td>5.1</td>\n",
       "      <td>3.5</td>\n",
       "      <td>1.4</td>\n",
       "      <td>0.2</td>\n",
       "      <td>setosa</td>\n",
       "    </tr>\n",
       "    <tr>\n",
       "      <th>1</th>\n",
       "      <td>4.9</td>\n",
       "      <td>3.0</td>\n",
       "      <td>1.4</td>\n",
       "      <td>0.2</td>\n",
       "      <td>setosa</td>\n",
       "    </tr>\n",
       "    <tr>\n",
       "      <th>2</th>\n",
       "      <td>4.7</td>\n",
       "      <td>3.2</td>\n",
       "      <td>1.3</td>\n",
       "      <td>0.2</td>\n",
       "      <td>setosa</td>\n",
       "    </tr>\n",
       "    <tr>\n",
       "      <th>3</th>\n",
       "      <td>4.6</td>\n",
       "      <td>3.1</td>\n",
       "      <td>1.5</td>\n",
       "      <td>0.2</td>\n",
       "      <td>setosa</td>\n",
       "    </tr>\n",
       "    <tr>\n",
       "      <th>4</th>\n",
       "      <td>5.0</td>\n",
       "      <td>3.6</td>\n",
       "      <td>1.4</td>\n",
       "      <td>0.2</td>\n",
       "      <td>setosa</td>\n",
       "    </tr>\n",
       "  </tbody>\n",
       "</table>\n",
       "</div>"
      ],
      "text/plain": [
       "   Sepal.Length  Sepal.Width  Petal.Length  Petal.Width Species\n",
       "0           5.1          3.5           1.4          0.2  setosa\n",
       "1           4.9          3.0           1.4          0.2  setosa\n",
       "2           4.7          3.2           1.3          0.2  setosa\n",
       "3           4.6          3.1           1.5          0.2  setosa\n",
       "4           5.0          3.6           1.4          0.2  setosa"
      ]
     },
     "execution_count": 6,
     "metadata": {},
     "output_type": "execute_result"
    }
   ],
   "source": [
    "####################\n",
    "# Write Your Code \n",
    "####################\n",
    "iris.head()"
   ]
  },
  {
   "cell_type": "markdown",
   "id": "cdfa1d63",
   "metadata": {
    "slideshow": {
     "slide_type": "slide"
    }
   },
   "source": [
    "Coba tampilkan 3 baris teratas dari `abalone`."
   ]
  },
  {
   "cell_type": "code",
   "execution_count": 7,
   "id": "7acbf1b1",
   "metadata": {
    "slideshow": {
     "slide_type": "slide"
    }
   },
   "outputs": [
    {
     "data": {
      "text/html": [
       "<div>\n",
       "<style scoped>\n",
       "    .dataframe tbody tr th:only-of-type {\n",
       "        vertical-align: middle;\n",
       "    }\n",
       "\n",
       "    .dataframe tbody tr th {\n",
       "        vertical-align: top;\n",
       "    }\n",
       "\n",
       "    .dataframe thead th {\n",
       "        text-align: right;\n",
       "    }\n",
       "</style>\n",
       "<table border=\"1\" class=\"dataframe\">\n",
       "  <thead>\n",
       "    <tr style=\"text-align: right;\">\n",
       "      <th></th>\n",
       "      <th>0</th>\n",
       "      <th>1</th>\n",
       "      <th>2</th>\n",
       "      <th>3</th>\n",
       "      <th>4</th>\n",
       "      <th>5</th>\n",
       "      <th>6</th>\n",
       "      <th>7</th>\n",
       "      <th>8</th>\n",
       "    </tr>\n",
       "  </thead>\n",
       "  <tbody>\n",
       "    <tr>\n",
       "      <th>0</th>\n",
       "      <td>M</td>\n",
       "      <td>0.455</td>\n",
       "      <td>0.365</td>\n",
       "      <td>0.095</td>\n",
       "      <td>0.5140</td>\n",
       "      <td>0.2245</td>\n",
       "      <td>0.1010</td>\n",
       "      <td>0.15</td>\n",
       "      <td>15</td>\n",
       "    </tr>\n",
       "    <tr>\n",
       "      <th>1</th>\n",
       "      <td>M</td>\n",
       "      <td>0.350</td>\n",
       "      <td>0.265</td>\n",
       "      <td>0.090</td>\n",
       "      <td>0.2255</td>\n",
       "      <td>0.0995</td>\n",
       "      <td>0.0485</td>\n",
       "      <td>0.07</td>\n",
       "      <td>7</td>\n",
       "    </tr>\n",
       "    <tr>\n",
       "      <th>2</th>\n",
       "      <td>F</td>\n",
       "      <td>0.530</td>\n",
       "      <td>0.420</td>\n",
       "      <td>0.135</td>\n",
       "      <td>0.6770</td>\n",
       "      <td>0.2565</td>\n",
       "      <td>0.1415</td>\n",
       "      <td>0.21</td>\n",
       "      <td>9</td>\n",
       "    </tr>\n",
       "  </tbody>\n",
       "</table>\n",
       "</div>"
      ],
      "text/plain": [
       "   0      1      2      3       4       5       6     7   8\n",
       "0  M  0.455  0.365  0.095  0.5140  0.2245  0.1010  0.15  15\n",
       "1  M  0.350  0.265  0.090  0.2255  0.0995  0.0485  0.07   7\n",
       "2  F  0.530  0.420  0.135  0.6770  0.2565  0.1415  0.21   9"
      ]
     },
     "execution_count": 7,
     "metadata": {},
     "output_type": "execute_result"
    }
   ],
   "source": [
    "####################\n",
    "# Write Your Code \n",
    "####################\n",
    "abalone.head(3)"
   ]
  },
  {
   "cell_type": "markdown",
   "id": "36ef2d1f",
   "metadata": {
    "slideshow": {
     "slide_type": "slide"
    }
   },
   "source": [
    "Konversi nama-nama kolom dari `abalone` menjadi \n",
    "1. `Sex`, \n",
    "2. `Length`, \n",
    "3. `Diameter`, \n",
    "4. `Height`,\n",
    "5. `Whole weight`,\n",
    "6. `Shucked weight`, \n",
    "7. `Viscera weight`, \n",
    "8. `Shell weight`,\n",
    "9. `Rings`"
   ]
  },
  {
   "cell_type": "code",
   "execution_count": 8,
   "id": "61cee444",
   "metadata": {
    "slideshow": {
     "slide_type": "slide"
    }
   },
   "outputs": [
    {
     "data": {
      "text/plain": [
       "Index(['Sex', 'Length', 'Diameter', 'Height', 'Whole weight', 'Shucked weight',\n",
       "       'Viscera weight', 'Shell weight', 'Rings'],\n",
       "      dtype='object')"
      ]
     },
     "execution_count": 8,
     "metadata": {},
     "output_type": "execute_result"
    }
   ],
   "source": [
    "####################\n",
    "# Write Your Code \n",
    "####################\n",
    "abalone.columns = ['Sex','Length','Diameter','Height','Whole weight','Shucked weight',\n",
    "                   'Viscera weight','Shell weight','Rings']\n",
    "abalone.columns"
   ]
  },
  {
   "cell_type": "markdown",
   "id": "c0ef5924",
   "metadata": {
    "slideshow": {
     "slide_type": "slide"
    }
   },
   "source": [
    "## 1.2 Structuring Features According to Type"
   ]
  },
  {
   "cell_type": "markdown",
   "id": "3dc68746",
   "metadata": {
    "slideshow": {
     "slide_type": "slide"
    }
   },
   "source": [
    "Mari kita baca sebuah file excel dari `http://www.biostatisticien.eu/springeR` dengan nama file: `nutrition_elderly.xls`"
   ]
  },
  {
   "cell_type": "code",
   "execution_count": 9,
   "id": "5f8bdc44",
   "metadata": {
    "slideshow": {
     "slide_type": "slide"
    }
   },
   "outputs": [],
   "source": [
    "####################\n",
    "# Write Your Code \n",
    "####################\n",
    "\n",
    "xls = 'http://www.biostatisticien.eu/springeR/nutrition_elderly.xls'\n",
    "nutri = pd.read_excel(xls)"
   ]
  },
  {
   "cell_type": "markdown",
   "id": "4c19863c",
   "metadata": {
    "slideshow": {
     "slide_type": "slide"
    }
   },
   "source": [
    "Tampilkan `info` dari `nutri`; perhatikan tipe data dari masing-masing kolom."
   ]
  },
  {
   "cell_type": "code",
   "execution_count": 12,
   "id": "03d79d70",
   "metadata": {
    "slideshow": {
     "slide_type": "slide"
    }
   },
   "outputs": [
    {
     "name": "stdout",
     "output_type": "stream",
     "text": [
      "<class 'pandas.core.frame.DataFrame'>\n",
      "RangeIndex: 226 entries, 0 to 225\n",
      "Data columns (total 13 columns):\n",
      " #   Column            Non-Null Count  Dtype\n",
      "---  ------            --------------  -----\n",
      " 0   gender            226 non-null    int64\n",
      " 1   situation         226 non-null    int64\n",
      " 2   tea               226 non-null    int64\n",
      " 3   coffee            226 non-null    int64\n",
      " 4   height            226 non-null    int64\n",
      " 5   weight            226 non-null    int64\n",
      " 6   age               226 non-null    int64\n",
      " 7   meat              226 non-null    int64\n",
      " 8   fish              226 non-null    int64\n",
      " 9   raw_fruit         226 non-null    int64\n",
      " 10  cooked_fruit_veg  226 non-null    int64\n",
      " 11  chocol            226 non-null    int64\n",
      " 12  fat               226 non-null    int64\n",
      "dtypes: int64(13)\n",
      "memory usage: 23.1 KB\n"
     ]
    }
   ],
   "source": [
    "####################\n",
    "# Write Your Code \n",
    "####################\n",
    "pd. set_option ('display.max_columns', 8) # to fit display\n",
    "nutri.head (3)\n",
    "nutri.info()"
   ]
  },
  {
   "cell_type": "markdown",
   "id": "8569b27e",
   "metadata": {
    "slideshow": {
     "slide_type": "slide"
    }
   },
   "source": [
    "Buatlah _dictionary_ yang bernama `DICT` yang berisi `1` adalah `Male` dan `2` adalah `Female`."
   ]
  },
  {
   "cell_type": "code",
   "execution_count": 14,
   "id": "fbfda6d3",
   "metadata": {
    "slideshow": {
     "slide_type": "slide"
    }
   },
   "outputs": [],
   "source": [
    "####################\n",
    "# Write Your Code \n",
    "####################\n",
    "DICT = {1:'Male', 2:'Female'}\n"
   ]
  },
  {
   "cell_type": "markdown",
   "id": "af02373c",
   "metadata": {
    "slideshow": {
     "slide_type": "slide"
    }
   },
   "source": [
    "Konversilah nilai di kolom `gender` sesuai dengan nilai `DICT`."
   ]
  },
  {
   "cell_type": "code",
   "execution_count": 15,
   "id": "4074a21e",
   "metadata": {
    "slideshow": {
     "slide_type": "slide"
    }
   },
   "outputs": [],
   "source": [
    "####################\n",
    "# Write Your Code \n",
    "####################\n",
    "nutri['gender'] = nutri['gender'].replace(DICT).astype('category')"
   ]
  },
  {
   "cell_type": "markdown",
   "id": "d635b9d2",
   "metadata": {
    "slideshow": {
     "slide_type": "slide"
    }
   },
   "source": [
    "Dengan menggunakan variabel yang sama (`DICT`), buatlah `DICT` yang berisi nilai `1` adalah `Single`, `2` adalah `Couple`, dan `3` adalah `Family`."
   ]
  },
  {
   "cell_type": "code",
   "execution_count": 16,
   "id": "73acc5a6",
   "metadata": {
    "slideshow": {
     "slide_type": "slide"
    }
   },
   "outputs": [],
   "source": [
    "####################\n",
    "# Write Your Code \n",
    "####################\n",
    "\n",
    "DICT = {1:'Single', 2:'Couple', 3:'Family'}\n",
    "nutri['gender'] = nutri['gender'].replace(DICT).astype('category')"
   ]
  },
  {
   "cell_type": "markdown",
   "id": "41eaf07d",
   "metadata": {
    "slideshow": {
     "slide_type": "slide"
    }
   },
   "source": [
    "Ubahlah tipe dari kolom `height` dari `nutri` sebagai `float` dan simpan hasil konversi ke kolom yang sama. "
   ]
  },
  {
   "cell_type": "code",
   "execution_count": 17,
   "id": "2529933e",
   "metadata": {
    "slideshow": {
     "slide_type": "slide"
    }
   },
   "outputs": [],
   "source": [
    "####################\n",
    "# Write Your Code \n",
    "####################\n",
    "nutri['height'] = nutri['height']. astype(float)"
   ]
  },
  {
   "cell_type": "markdown",
   "id": "4870b6ae",
   "metadata": {
    "slideshow": {
     "slide_type": "slide"
    }
   },
   "source": [
    "Simpanlah dataframe `nutri` ke file `nutri.csv` tanpa menyimpan indeks-nya."
   ]
  },
  {
   "cell_type": "code",
   "execution_count": 18,
   "id": "98eb0c95",
   "metadata": {
    "slideshow": {
     "slide_type": "slide"
    }
   },
   "outputs": [],
   "source": [
    "####################\n",
    "# Write Your Code \n",
    "####################\n",
    "nutri.to_csv('nutri.csv',index=False)"
   ]
  },
  {
   "cell_type": "markdown",
   "id": "564c1aa6",
   "metadata": {
    "slideshow": {
     "slide_type": "slide"
    }
   },
   "source": [
    "## 1.3 Summary Tables"
   ]
  },
  {
   "cell_type": "markdown",
   "id": "bfaf1fef",
   "metadata": {
    "slideshow": {
     "slide_type": "slide"
    }
   },
   "source": [
    "Tampilkan statistika deskriptif dari kolom `fat` dari `nutri`. "
   ]
  },
  {
   "cell_type": "code",
   "execution_count": 19,
   "id": "c5207859",
   "metadata": {
    "slideshow": {
     "slide_type": "slide"
    }
   },
   "outputs": [
    {
     "data": {
      "text/plain": [
       "count    226.000000\n",
       "mean       3.814159\n",
       "std        1.473009\n",
       "min        1.000000\n",
       "25%        3.000000\n",
       "50%        4.000000\n",
       "75%        5.000000\n",
       "max        8.000000\n",
       "Name: fat, dtype: float64"
      ]
     },
     "execution_count": 19,
     "metadata": {},
     "output_type": "execute_result"
    }
   ],
   "source": [
    "####################\n",
    "# Write Your Code \n",
    "####################\n",
    "nutri = pd.read_csv('nutri.csv')\n",
    "nutri['fat']. describe ()\n"
   ]
  },
  {
   "cell_type": "markdown",
   "id": "c5341a4e",
   "metadata": {
    "slideshow": {
     "slide_type": "slide"
    }
   },
   "source": [
    "Hitunglah jumlah masing-masing dari setiap nilai `fat`."
   ]
  },
  {
   "cell_type": "code",
   "execution_count": 20,
   "id": "7dcbeae4",
   "metadata": {
    "slideshow": {
     "slide_type": "slide"
    }
   },
   "outputs": [
    {
     "data": {
      "text/plain": [
       "fat\n",
       "4    68\n",
       "3    48\n",
       "5    40\n",
       "2    27\n",
       "6    23\n",
       "1    15\n",
       "8     4\n",
       "7     1\n",
       "Name: count, dtype: int64"
      ]
     },
     "execution_count": 20,
     "metadata": {},
     "output_type": "execute_result"
    }
   ],
   "source": [
    "####################\n",
    "# Write Your Code \n",
    "####################\n",
    "nutri['fat']. value_counts ()\n"
   ]
  },
  {
   "cell_type": "markdown",
   "id": "12991b7a",
   "metadata": {
    "slideshow": {
     "slide_type": "slide"
    }
   },
   "source": [
    "Buatlah tabel yang mencatat jumlah untuk setiap kombinasi dari `gender` dan `situation`."
   ]
  },
  {
   "cell_type": "code",
   "execution_count": 21,
   "id": "f266c5ec",
   "metadata": {
    "slideshow": {
     "slide_type": "slide"
    }
   },
   "outputs": [
    {
     "data": {
      "text/html": [
       "<div>\n",
       "<style scoped>\n",
       "    .dataframe tbody tr th:only-of-type {\n",
       "        vertical-align: middle;\n",
       "    }\n",
       "\n",
       "    .dataframe tbody tr th {\n",
       "        vertical-align: top;\n",
       "    }\n",
       "\n",
       "    .dataframe thead th {\n",
       "        text-align: right;\n",
       "    }\n",
       "</style>\n",
       "<table border=\"1\" class=\"dataframe\">\n",
       "  <thead>\n",
       "    <tr style=\"text-align: right;\">\n",
       "      <th>situation</th>\n",
       "      <th>1</th>\n",
       "      <th>2</th>\n",
       "      <th>3</th>\n",
       "    </tr>\n",
       "    <tr>\n",
       "      <th>gender</th>\n",
       "      <th></th>\n",
       "      <th></th>\n",
       "      <th></th>\n",
       "    </tr>\n",
       "  </thead>\n",
       "  <tbody>\n",
       "    <tr>\n",
       "      <th>Female</th>\n",
       "      <td>78</td>\n",
       "      <td>56</td>\n",
       "      <td>7</td>\n",
       "    </tr>\n",
       "    <tr>\n",
       "      <th>Male</th>\n",
       "      <td>20</td>\n",
       "      <td>63</td>\n",
       "      <td>2</td>\n",
       "    </tr>\n",
       "  </tbody>\n",
       "</table>\n",
       "</div>"
      ],
      "text/plain": [
       "situation   1   2  3\n",
       "gender              \n",
       "Female     78  56  7\n",
       "Male       20  63  2"
      ]
     },
     "execution_count": 21,
     "metadata": {},
     "output_type": "execute_result"
    }
   ],
   "source": [
    "####################\n",
    "# Write Your Code \n",
    "####################\n",
    "pd.crosstab (nutri.gender , nutri. situation )"
   ]
  },
  {
   "cell_type": "markdown",
   "id": "e85312b2",
   "metadata": {
    "slideshow": {
     "slide_type": "slide"
    }
   },
   "source": [
    "Buatlah tabel yang mencatat jumlah untuk setiap kombinasi dari `gender` dan `situation` dengan total jumlahnya."
   ]
  },
  {
   "cell_type": "code",
   "execution_count": 22,
   "id": "da0429e3",
   "metadata": {
    "slideshow": {
     "slide_type": "slide"
    }
   },
   "outputs": [
    {
     "data": {
      "text/html": [
       "<div>\n",
       "<style scoped>\n",
       "    .dataframe tbody tr th:only-of-type {\n",
       "        vertical-align: middle;\n",
       "    }\n",
       "\n",
       "    .dataframe tbody tr th {\n",
       "        vertical-align: top;\n",
       "    }\n",
       "\n",
       "    .dataframe thead th {\n",
       "        text-align: right;\n",
       "    }\n",
       "</style>\n",
       "<table border=\"1\" class=\"dataframe\">\n",
       "  <thead>\n",
       "    <tr style=\"text-align: right;\">\n",
       "      <th>situation</th>\n",
       "      <th>1</th>\n",
       "      <th>2</th>\n",
       "      <th>3</th>\n",
       "      <th>All</th>\n",
       "    </tr>\n",
       "    <tr>\n",
       "      <th>gender</th>\n",
       "      <th></th>\n",
       "      <th></th>\n",
       "      <th></th>\n",
       "      <th></th>\n",
       "    </tr>\n",
       "  </thead>\n",
       "  <tbody>\n",
       "    <tr>\n",
       "      <th>Female</th>\n",
       "      <td>78</td>\n",
       "      <td>56</td>\n",
       "      <td>7</td>\n",
       "      <td>141</td>\n",
       "    </tr>\n",
       "    <tr>\n",
       "      <th>Male</th>\n",
       "      <td>20</td>\n",
       "      <td>63</td>\n",
       "      <td>2</td>\n",
       "      <td>85</td>\n",
       "    </tr>\n",
       "    <tr>\n",
       "      <th>All</th>\n",
       "      <td>98</td>\n",
       "      <td>119</td>\n",
       "      <td>9</td>\n",
       "      <td>226</td>\n",
       "    </tr>\n",
       "  </tbody>\n",
       "</table>\n",
       "</div>"
      ],
      "text/plain": [
       "situation   1    2  3  All\n",
       "gender                    \n",
       "Female     78   56  7  141\n",
       "Male       20   63  2   85\n",
       "All        98  119  9  226"
      ]
     },
     "execution_count": 22,
     "metadata": {},
     "output_type": "execute_result"
    }
   ],
   "source": [
    "####################\n",
    "# Write Your Code \n",
    "####################\n",
    "pd.crosstab (nutri.gender , nutri.situation , margins=True)"
   ]
  },
  {
   "cell_type": "markdown",
   "id": "150e5451",
   "metadata": {
    "slideshow": {
     "slide_type": "slide"
    }
   },
   "source": [
    "## 1.4 Summary Statistics"
   ]
  },
  {
   "cell_type": "markdown",
   "id": "28e143fe",
   "metadata": {
    "slideshow": {
     "slide_type": "slide"
    }
   },
   "source": [
    "Hitunglah rata-rata dari kolom `height` dari `nutri`."
   ]
  },
  {
   "cell_type": "code",
   "execution_count": 23,
   "id": "79864321",
   "metadata": {
    "slideshow": {
     "slide_type": "slide"
    }
   },
   "outputs": [
    {
     "data": {
      "text/plain": [
       "163.96017699115043"
      ]
     },
     "execution_count": 23,
     "metadata": {},
     "output_type": "execute_result"
    }
   ],
   "source": [
    "####################\n",
    "# Write Your Code \n",
    "####################\n",
    "nutri['height']. mean ()"
   ]
  },
  {
   "cell_type": "markdown",
   "id": "c29bcd7e",
   "metadata": {
    "slideshow": {
     "slide_type": "slide"
    }
   },
   "source": [
    "Hitunglah $Q_1$, $Q_2$, dan $Q_3$ dari `height`"
   ]
  },
  {
   "cell_type": "code",
   "execution_count": 24,
   "id": "024ad59b",
   "metadata": {
    "slideshow": {
     "slide_type": "slide"
    }
   },
   "outputs": [
    {
     "data": {
      "text/plain": [
       "0.25    157.0\n",
       "0.50    163.0\n",
       "0.75    170.0\n",
       "Name: height, dtype: float64"
      ]
     },
     "execution_count": 24,
     "metadata": {},
     "output_type": "execute_result"
    }
   ],
   "source": [
    "####################\n",
    "# Write Your Code \n",
    "####################\n",
    "nutri['height']. quantile (q=[0.25 ,0.5 ,0.75])"
   ]
  },
  {
   "cell_type": "markdown",
   "id": "ba0d36f6",
   "metadata": {
    "slideshow": {
     "slide_type": "slide"
    }
   },
   "source": [
    "Hitunglah rentang dari kolom `height`."
   ]
  },
  {
   "cell_type": "code",
   "execution_count": 25,
   "id": "c5aaae4d",
   "metadata": {
    "slideshow": {
     "slide_type": "slide"
    }
   },
   "outputs": [
    {
     "data": {
      "text/plain": [
       "48.0"
      ]
     },
     "execution_count": 25,
     "metadata": {},
     "output_type": "execute_result"
    }
   ],
   "source": [
    "####################\n",
    "# Write Your Code \n",
    "####################\n",
    "nutri['height'].max() - nutri['height'].min()"
   ]
  },
  {
   "cell_type": "markdown",
   "id": "b33d50a6",
   "metadata": {
    "slideshow": {
     "slide_type": "slide"
    }
   },
   "source": [
    "Hitunglah variansi dari `height` dengan 2 angka di belakang koma."
   ]
  },
  {
   "cell_type": "code",
   "execution_count": 26,
   "id": "125fc3e8",
   "metadata": {
    "slideshow": {
     "slide_type": "slide"
    }
   },
   "outputs": [
    {
     "data": {
      "text/plain": [
       "81.06"
      ]
     },
     "execution_count": 26,
     "metadata": {},
     "output_type": "execute_result"
    }
   ],
   "source": [
    "####################\n",
    "# Write Your Code \n",
    "####################\n",
    "round(nutri['height']. var (), 2)"
   ]
  },
  {
   "cell_type": "markdown",
   "id": "f8fd7632",
   "metadata": {
    "slideshow": {
     "slide_type": "slide"
    }
   },
   "source": [
    "Hitunglah simpangan baku dari `height` dengan 2 angka di belakang koma."
   ]
  },
  {
   "cell_type": "code",
   "execution_count": 27,
   "id": "46553271",
   "metadata": {
    "slideshow": {
     "slide_type": "slide"
    }
   },
   "outputs": [
    {
     "data": {
      "text/plain": [
       "9.0"
      ]
     },
     "execution_count": 27,
     "metadata": {},
     "output_type": "execute_result"
    }
   ],
   "source": [
    "####################\n",
    "# Write Your Code \n",
    "####################\n",
    "round(nutri['height']. std (), 2)"
   ]
  },
  {
   "cell_type": "markdown",
   "id": "22387706",
   "metadata": {
    "slideshow": {
     "slide_type": "slide"
    }
   },
   "source": [
    "Tampilkan statistika deskriptif dari `height`."
   ]
  },
  {
   "cell_type": "code",
   "execution_count": 28,
   "id": "eb45b2cb",
   "metadata": {
    "slideshow": {
     "slide_type": "slide"
    }
   },
   "outputs": [
    {
     "data": {
      "text/plain": [
       "count    226.000000\n",
       "mean     163.960177\n",
       "std        9.003368\n",
       "min      140.000000\n",
       "25%      157.000000\n",
       "50%      163.000000\n",
       "75%      170.000000\n",
       "max      188.000000\n",
       "Name: height, dtype: float64"
      ]
     },
     "execution_count": 28,
     "metadata": {},
     "output_type": "execute_result"
    }
   ],
   "source": [
    "####################\n",
    "# Write Your Code \n",
    "####################\n",
    "nutri['height']. describe ()"
   ]
  },
  {
   "cell_type": "markdown",
   "id": "5f8b5ee5",
   "metadata": {
    "slideshow": {
     "slide_type": "slide"
    }
   },
   "source": [
    "## 1.5 Visualizing Data"
   ]
  },
  {
   "cell_type": "markdown",
   "id": "19981c9d",
   "metadata": {
    "slideshow": {
     "slide_type": "slide"
    }
   },
   "source": [
    "Mari kita import semua library yang dibutuhkan."
   ]
  },
  {
   "cell_type": "code",
   "execution_count": 29,
   "id": "54dff658",
   "metadata": {
    "slideshow": {
     "slide_type": "slide"
    }
   },
   "outputs": [],
   "source": [
    "import matplotlib . pyplot as plt\n",
    "import pandas as pd\n",
    "import numpy as np"
   ]
  },
  {
   "cell_type": "markdown",
   "id": "62fbe59a",
   "metadata": {
    "slideshow": {
     "slide_type": "slide"
    }
   },
   "source": [
    "### 1.5.1 Plotting Qualitative Variables"
   ]
  },
  {
   "cell_type": "markdown",
   "id": "d1c5402e",
   "metadata": {
    "slideshow": {
     "slide_type": "slide"
    }
   },
   "source": [
    "Silakan plot histogram untuk variabel `situation` dengan lebar `0.35` dan posisi tiap bar pada `0`, `0.8`, dan `1.6`."
   ]
  },
  {
   "cell_type": "code",
   "execution_count": 30,
   "id": "0aaba597",
   "metadata": {
    "slideshow": {
     "slide_type": "slide"
    }
   },
   "outputs": [
    {
     "data": {
      "image/png": "[encoded data removed]",
      "text/plain": [
       "<Figure size 640x480 with 1 Axes>"
      ]
     },
     "metadata": {},
     "output_type": "display_data"
    }
   ],
   "source": [
    "####################\n",
    "# Write Your Code \n",
    "####################\n",
    "width = 0.35 # the width of the bars\n",
    "x = [0, 0.8, 1.6] # the bar positions on x-axis\n",
    "situation_counts =nutri['situation']. value_counts ()\n",
    "plt.bar(x, situation_counts , width , edgecolor = 'black')\n",
    "plt.xticks(x, situation_counts .index)\n",
    "plt.show ()\n"
   ]
  },
  {
   "cell_type": "markdown",
   "id": "bba9d8e2",
   "metadata": {
    "slideshow": {
     "slide_type": "slide"
    }
   },
   "source": [
    "### 1.5.2 Plotting Quantitative Variables"
   ]
  },
  {
   "cell_type": "markdown",
   "id": "fa1fd71c",
   "metadata": {
    "slideshow": {
     "slide_type": "slide"
    }
   },
   "source": [
    "#### 1.5.2.1 Boxplot"
   ]
  },
  {
   "cell_type": "markdown",
   "id": "9a6eb3e4",
   "metadata": {
    "slideshow": {
     "slide_type": "slide"
    }
   },
   "source": [
    "Buatlah **boxplot** untuk `age` dan beri label pada `x`: `age`. "
   ]
  },
  {
   "cell_type": "code",
   "execution_count": 31,
   "id": "7aab13a7",
   "metadata": {
    "slideshow": {
     "slide_type": "slide"
    }
   },
   "outputs": [
    {
     "data": {
      "image/png": "[encoded data removed]",
      "text/plain": [
       "<Figure size 640x480 with 1 Axes>"
      ]
     },
     "metadata": {},
     "output_type": "display_data"
    }
   ],
   "source": [
    "####################\n",
    "# Write Your Code \n",
    "####################\n",
    "plt.boxplot(nutri['age'],widths=width ,vert=False)\n",
    "plt.xlabel('age')\n",
    "plt.show ()\n"
   ]
  },
  {
   "cell_type": "markdown",
   "id": "863ba4fc",
   "metadata": {
    "slideshow": {
     "slide_type": "slide"
    }
   },
   "source": [
    "#### 1.5.2.2 Histogram"
   ]
  },
  {
   "cell_type": "markdown",
   "id": "8ed4a0d4",
   "metadata": {
    "slideshow": {
     "slide_type": "slide"
    }
   },
   "source": [
    "Buatlah histogram yang berisi proporsi umur $\\Rightarrow$ umur / jumlah semua data"
   ]
  },
  {
   "cell_type": "code",
   "execution_count": 32,
   "id": "e02ff7f3",
   "metadata": {
    "slideshow": {
     "slide_type": "slide"
    }
   },
   "outputs": [
    {
     "data": {
      "image/png": "[encoded data removed]",
      "text/plain": [
       "<Figure size 640x480 with 1 Axes>"
      ]
     },
     "metadata": {},
     "output_type": "display_data"
    }
   ],
   "source": [
    "####################\n",
    "# Write Your Code \n",
    "####################\n",
    "weights = np. ones_like (nutri.age)/nutri.age.count ()\n",
    "plt.hist(nutri.age ,bins =9, weights=weights , facecolor='cyan',\n",
    "edgecolor ='black', linewidth =1)\n",
    "plt.xlabel('age')\n",
    "plt.ylabel('Proportion of Total')\n",
    "plt.show ()"
   ]
  },
  {
   "cell_type": "markdown",
   "id": "b944b226",
   "metadata": {
    "slideshow": {
     "slide_type": "slide"
    }
   },
   "source": [
    "#### 1.5.2.3 Empirical Cumulative Distribution Function"
   ]
  },
  {
   "cell_type": "markdown",
   "id": "26cf05e0",
   "metadata": {
    "slideshow": {
     "slide_type": "slide"
    }
   },
   "source": [
    "Buatlah distribusi fungsi kumulatif untuk `age`."
   ]
  },
  {
   "cell_type": "code",
   "execution_count": 33,
   "id": "01dd0ea1",
   "metadata": {
    "slideshow": {
     "slide_type": "slide"
    }
   },
   "outputs": [
    {
     "data": {
      "image/png": "[encoded data removed]",
      "text/plain": [
       "<Figure size 640x480 with 1 Axes>"
      ]
     },
     "metadata": {},
     "output_type": "display_data"
    }
   ],
   "source": [
    "####################\n",
    "# Write Your Code \n",
    "####################\n",
    "x = np.sort(nutri.age)\n",
    "y = np.linspace (0,1,len(nutri.age))\n",
    "plt.xlabel('age')\n",
    "plt.ylabel('Fn(x)')\n",
    "plt.step(x,y)\n",
    "plt.xlim(x.min(),x.max())\n",
    "plt.show ()"
   ]
  },
  {
   "cell_type": "markdown",
   "id": "48f70421",
   "metadata": {
    "slideshow": {
     "slide_type": "slide"
    }
   },
   "source": [
    "### 1.5.3 Data Visualization in a Bivariate Setting"
   ]
  },
  {
   "cell_type": "markdown",
   "id": "68d616e8",
   "metadata": {
    "slideshow": {
     "slide_type": "slide"
    }
   },
   "source": [
    "#### 1.5.3.1 Two-way Plots for Two Categorical Variables"
   ]
  },
  {
   "cell_type": "markdown",
   "id": "85750395",
   "metadata": {
    "slideshow": {
     "slide_type": "slide"
    }
   },
   "source": [
    "Buatlah plot untuk kolom `situation` dari `nutri` dengan menampilkan `Male` dan `Female` pada setiap nilai `situation`.  "
   ]
  },
  {
   "cell_type": "code",
   "execution_count": 34,
   "id": "a181939a",
   "metadata": {
    "slideshow": {
     "slide_type": "slide"
    }
   },
   "outputs": [
    {
     "data": {
      "image/png": "[encoded data removed]",
      "text/plain": [
       "<Figure size 640x480 with 1 Axes>"
      ]
     },
     "metadata": {},
     "output_type": "display_data"
    }
   ],
   "source": [
    "####################\n",
    "# Write Your Code \n",
    "####################\n",
    "import seaborn as sns\n",
    "sns. countplot (x='situation', hue = 'gender', data=nutri ,\n",
    "hue_order = ['Male', 'Female'], palette = ['SkyBlue','Pink'],\n",
    "saturation = 1, edgecolor ='black')\n",
    "plt.legend(loc='upper center')\n",
    "plt.xlabel('')\n",
    "plt.ylabel('Counts')\n",
    "plt.show ()"
   ]
  },
  {
   "cell_type": "markdown",
   "id": "94d53671",
   "metadata": {
    "slideshow": {
     "slide_type": "slide"
    }
   },
   "source": [
    "#### 1.5.3.2 Plots for Two Quantitative Variables"
   ]
  },
  {
   "cell_type": "markdown",
   "id": "7a32da04",
   "metadata": {
    "slideshow": {
     "slide_type": "slide"
    }
   },
   "source": [
    "Buatlah scatter plot dengan sumbu $x$ adalah `height` dan sumbu $y$ adalah `weight`."
   ]
  },
  {
   "cell_type": "code",
   "execution_count": 35,
   "id": "fc23f4e1",
   "metadata": {
    "slideshow": {
     "slide_type": "slide"
    }
   },
   "outputs": [
    {
     "data": {
      "image/png": "[encoded data removed]",
      "text/plain": [
       "<Figure size 640x480 with 1 Axes>"
      ]
     },
     "metadata": {},
     "output_type": "display_data"
    }
   ],
   "source": [
    "####################\n",
    "# Write Your Code \n",
    "####################\n",
    "plt.scatter(nutri.height , nutri.weight , s=12, marker='o')\n",
    "plt.xlabel('height')\n",
    "plt.ylabel('weight')\n",
    "plt.show ()"
   ]
  },
  {
   "cell_type": "markdown",
   "id": "1ddd83b1",
   "metadata": {
    "slideshow": {
     "slide_type": "slide"
    }
   },
   "source": [
    "Buatlah plot age (sumbu $x$) dan birth weight (sumbu $y$) yang membandingkan smokers dan non-smokers, kemudian gambarkan juga garis regresinya, yaitu garis lurus."
   ]
  },
  {
   "cell_type": "code",
   "execution_count": 49,
   "id": "2cb7aedb",
   "metadata": {
    "slideshow": {
     "slide_type": "slide"
    }
   },
   "outputs": [
    {
     "data": {
      "image/png": "[encoded data removed]",
      "text/plain": [
       "<Figure size 640x480 with 1 Axes>"
      ]
     },
     "metadata": {},
     "output_type": "display_data"
    }
   ],
   "source": [
    "####################\n",
    "# Write Your Code \n",
    "####################\n",
    "urlprefix = 'https://vincentarelbundock.github.io/Rdatasets/csv/'\n",
    "dataname = 'MASS/birthwt.csv'\n",
    "\n",
    "bwt = pd.read_csv(urlprefix + dataname)\n",
    "\n",
    "# bwt = bwt.drop('Unnamed: 0', 1) \n",
    "\n",
    "styles = {0: ['o','red'], 1: ['^','blue']}\n",
    "for k in styles:\n",
    "    grp = bwt[bwt.smoke == k]\n",
    "    m, b = np.polyfit(grp.age, grp.bwt, 1) # fit a straight line\n",
    "    plt.scatter(grp.age, grp.bwt, c=styles[k][1], s=15, linewidth=0,\n",
    "                marker=styles[k][0])\n",
    "    plt.plot(grp.age, m*grp.age + b, '-', color=styles[k][1])\n",
    "    \n",
    "plt.xlabel('age')\n",
    "plt.ylabel('birth weight (g)')\n",
    "plt.legend (['non-smokers','smokers'], prop={'size':8}, loc=(0.5, 0.8))\n",
    "plt.show()\n"
   ]
  },
  {
   "cell_type": "markdown",
   "id": "17c763d8",
   "metadata": {
    "slideshow": {
     "slide_type": "slide"
    }
   },
   "source": [
    "#### 1.5.3.3 Plots for One Qualitative and One Quantitative Variable"
   ]
  },
  {
   "cell_type": "markdown",
   "id": "fff2eb14",
   "metadata": {
    "slideshow": {
     "slide_type": "slide"
    }
   },
   "source": [
    "Buat plot boxplot untuk konsumsi kopi untuk masing-masing `Male` dan `Female`.  "
   ]
  },
  {
   "cell_type": "code",
   "execution_count": 50,
   "id": "72ec129c",
   "metadata": {
    "slideshow": {
     "slide_type": "slide"
    }
   },
   "outputs": [
    {
     "data": {
      "image/png": "[encoded data removed]",
      "text/plain": [
       "<Figure size 640x480 with 1 Axes>"
      ]
     },
     "metadata": {},
     "output_type": "display_data"
    }
   ],
   "source": [
    "####################\n",
    "# Write Your Code \n",
    "####################\n",
    "males = nutri[nutri.gender == 'Male']\n",
    "females = nutri[nutri.gender == 'Female']\n",
    "plt.boxplot([ males.coffee ,females.coffee],notch=True ,widths=(0.5 ,0.5))\n",
    "plt.xlabel('gender')\n",
    "plt.ylabel('coffee')\n",
    "plt.xticks([1 ,2] ,['Male','Female'])\n",
    "plt.show()"
   ]
  },
  {
   "cell_type": "markdown",
   "id": "3885279a",
   "metadata": {
    "slideshow": {
     "slide_type": "slide"
    }
   },
   "source": [
    "<center>\n",
    "       <h1>The End</h1>\n",
    "</center>"
   ]
  }
 ],
 "metadata": {
  "celltoolbar": "Slideshow",
  "kernelspec": {
   "display_name": "Python 3 (ipykernel)",
   "language": "python",
   "name": "python3"
  },
  "language_info": {
   "codemirror_mode": {
    "name": "ipython",
    "version": 3
   },
   "file_extension": ".py",
   "mimetype": "text/x-python",
   "name": "python",
   "nbconvert_exporter": "python",
   "pygments_lexer": "ipython3",
   "version": "3.12.11"
  }
 },
 "nbformat": 4,
 "nbformat_minor": 5
}
